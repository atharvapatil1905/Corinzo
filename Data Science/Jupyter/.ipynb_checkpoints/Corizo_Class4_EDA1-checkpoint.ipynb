{
 "cells": [
  {
   "cell_type": "markdown",
   "id": "03ca0e68",
   "metadata": {
    "id": "03ca0e68"
   },
   "source": [
    "# Domain 1: HealthCare"
   ]
  },
  {
   "cell_type": "markdown",
   "id": "FWnZpcAdTKaQ",
   "metadata": {
    "id": "FWnZpcAdTKaQ"
   },
   "source": [
    "## CONTEXT\n",
    "Medical research university X is undergoing a deep research on patients with certain conditions.\n",
    "University has an internal AI team. Due to confidentiality the patient’s details and the conditions are masked by\n",
    "the client by providing different datasets to the AI team for developing a AIML model which can predict the\n",
    "condition of the patient depending on the received test results."
   ]
  },
  {
   "cell_type": "markdown",
   "id": "_X-jjQkxTRtQ",
   "metadata": {
    "id": "_X-jjQkxTRtQ"
   },
   "source": [
    "## Data Description\n",
    "The data consists of biomechanics features of the patients according to their current\n",
    "conditions. Each patient is represented in the data set by six biomechanics attributes derived from the shape and\n",
    "orientation of the condition to their body part.\n",
    "1. P_incidence\n",
    "2. P_tilt\n",
    "3. L_angle\n",
    "4. S_slope\n",
    "5. P_radius\n",
    "6. S_degree\n",
    "7. Class"
   ]
  },
  {
   "cell_type": "markdown",
   "id": "7e861e2f",
   "metadata": {
    "id": "7e861e2f"
   },
   "source": [
    "# 1. Import packages and warehouse data"
   ]
  },
  {
   "cell_type": "code",
   "execution_count": 28,
   "id": "6c13e9b3",
   "metadata": {
    "id": "6c13e9b3"
   },
   "outputs": [],
   "source": [
    "# Importy packages\n",
    "import numpy as np\n",
    "import pandas as pd\n",
    "# from PIL import ImageFont, ImageDraw, Image\n",
    "import seaborn as sns # For Data Visualization\n",
    "import matplotlib.pyplot as plt # Necessary module for plotting purpose\n",
    "# plt.rcParams[\"patch.force_edgecolor\"] = True\n",
    "%matplotlib inline\n",
    "\n",
    "# from plotly.offline import init_notebook_mode, iplot\n",
    "# init_notebook_mode(connected=True)\n",
    "# import plotly.graph_objs as go\n",
    "\n",
    "import warnings\n",
    "warnings.filterwarnings(\"ignore\");"
   ]
  },
  {
   "cell_type": "code",
   "execution_count": 29,
   "id": "eE_hY373nHyB",
   "metadata": {
    "colab": {
     "base_uri": "https://localhost:8080/"
    },
    "id": "eE_hY373nHyB",
    "outputId": "14c1c3a3-84ea-4918-f2bb-72ee081f8b07"
   },
   "outputs": [
    {
     "ename": "ModuleNotFoundError",
     "evalue": "No module named 'google'",
     "output_type": "error",
     "traceback": [
      "\u001b[31m---------------------------------------------------------------------------\u001b[39m",
      "\u001b[31mModuleNotFoundError\u001b[39m                       Traceback (most recent call last)",
      "\u001b[36mCell\u001b[39m\u001b[36m \u001b[39m\u001b[32mIn[29]\u001b[39m\u001b[32m, line 2\u001b[39m\n\u001b[32m      1\u001b[39m \u001b[38;5;66;03m# Mounting google drive\u001b[39;00m\n\u001b[32m----> \u001b[39m\u001b[32m2\u001b[39m \u001b[38;5;28;01mfrom\u001b[39;00m\u001b[38;5;250m \u001b[39m\u001b[34;01mgoogle\u001b[39;00m\u001b[34;01m.\u001b[39;00m\u001b[34;01mcolab\u001b[39;00m\u001b[38;5;250m \u001b[39m\u001b[38;5;28;01mimport\u001b[39;00m drive\n\u001b[32m      3\u001b[39m drive.mount(\u001b[33m'\u001b[39m\u001b[33m/content/drive\u001b[39m\u001b[33m'\u001b[39m)\n",
      "\u001b[31mModuleNotFoundError\u001b[39m: No module named 'google'"
     ]
    }
   ],
   "source": [
    "# Mounting google drive\n",
    "from google.colab import drive\n",
    "drive.mount('/content/drive')"
   ]
  },
  {
   "cell_type": "code",
   "execution_count": null,
   "id": "3232a2d1",
   "metadata": {
    "id": "3232a2d1"
   },
   "outputs": [],
   "source": [
    "#importing data files\n",
    "data1 = pd.read_csv(r\"Part1 - Normal.csv\")\n",
    "data2 = pd.read_csv(r\"Part1 - Type_H.csv\")\n",
    "data3 = pd.read_csv(r\"Part1 - Type_S.csv\")"
   ]
  },
  {
   "cell_type": "code",
   "execution_count": null,
   "id": "kue0IuDAlGLy",
   "metadata": {
    "colab": {
     "base_uri": "https://localhost:8080/",
     "height": 206
    },
    "id": "kue0IuDAlGLy",
    "outputId": "b42ef1c7-34f6-40a1-a03e-fae93e2065a9"
   },
   "outputs": [],
   "source": [
    "data1.head(5)"
   ]
  },
  {
   "cell_type": "code",
   "execution_count": null,
   "id": "Ph6ZlboEKM_Z",
   "metadata": {
    "colab": {
     "base_uri": "https://localhost:8080/"
    },
    "id": "Ph6ZlboEKM_Z",
    "outputId": "60643475-26a5-4643-cfbf-31d7c95253b5"
   },
   "outputs": [],
   "source": [
    "data1.shape"
   ]
  },
  {
   "cell_type": "code",
   "execution_count": null,
   "id": "5ixrmiw0lU4c",
   "metadata": {
    "colab": {
     "base_uri": "https://localhost:8080/",
     "height": 178
    },
    "id": "5ixrmiw0lU4c",
    "outputId": "c67a2830-7244-4dec-c3da-60cab3e08b4d"
   },
   "outputs": [],
   "source": [
    "data1['Class'].value_counts()"
   ]
  },
  {
   "cell_type": "code",
   "execution_count": null,
   "id": "-IXQkmYjlLpP",
   "metadata": {
    "colab": {
     "base_uri": "https://localhost:8080/",
     "height": 206
    },
    "id": "-IXQkmYjlLpP",
    "outputId": "d16e457a-a786-4a31-ceec-42d19128a92f"
   },
   "outputs": [],
   "source": [
    "data2.head()"
   ]
  },
  {
   "cell_type": "code",
   "execution_count": null,
   "id": "XwsYrhIQle0g",
   "metadata": {
    "colab": {
     "base_uri": "https://localhost:8080/",
     "height": 178
    },
    "id": "XwsYrhIQle0g",
    "outputId": "ea3a9589-178e-43d8-f4ad-992f52c7b5b7"
   },
   "outputs": [],
   "source": [
    "data2['Class'].value_counts()"
   ]
  },
  {
   "cell_type": "code",
   "execution_count": null,
   "id": "A2QplmYPeXc3",
   "metadata": {
    "colab": {
     "base_uri": "https://localhost:8080/"
    },
    "id": "A2QplmYPeXc3",
    "outputId": "e2009b56-e669-4d0a-bb4f-6973b7bac5c8"
   },
   "outputs": [],
   "source": [
    "data2.shape"
   ]
  },
  {
   "cell_type": "code",
   "execution_count": null,
   "id": "sfzBisIulR_3",
   "metadata": {
    "colab": {
     "base_uri": "https://localhost:8080/",
     "height": 206
    },
    "id": "sfzBisIulR_3",
    "outputId": "d825dfd3-4ef2-4402-8801-b928af8e7e27"
   },
   "outputs": [],
   "source": [
    "data3.head()"
   ]
  },
  {
   "cell_type": "code",
   "execution_count": null,
   "id": "gwbq2LaTln_Y",
   "metadata": {
    "colab": {
     "base_uri": "https://localhost:8080/",
     "height": 178
    },
    "id": "gwbq2LaTln_Y",
    "outputId": "b973c186-497d-43fc-8aa0-33957833bd1c"
   },
   "outputs": [],
   "source": [
    "data3['Class'].value_counts()"
   ]
  },
  {
   "cell_type": "code",
   "execution_count": null,
   "id": "ae2c64eb",
   "metadata": {
    "colab": {
     "base_uri": "https://localhost:8080/"
    },
    "id": "ae2c64eb",
    "outputId": "85b6e8b3-f28f-4cdf-f983-357913b25ee5"
   },
   "outputs": [],
   "source": [
    "print(\"The size and shape of the first dataset is\",data1.size,'and',data1.shape,'respectively.')\n",
    "print(\"The size and shape of the second dataset is\",data2.size,'and',data2.shape,'respectively.')\n",
    "print(\"The size and shape of the third dataset is\",data3.size,'and',data3.shape,'respectively.')"
   ]
  },
  {
   "cell_type": "code",
   "execution_count": null,
   "id": "519c9b58",
   "metadata": {
    "colab": {
     "base_uri": "https://localhost:8080/",
     "height": 206
    },
    "id": "519c9b58",
    "outputId": "9c4e0e0e-6701-4bcf-a164-21a1af751bd7"
   },
   "outputs": [],
   "source": [
    "# merging all three data files in one dataframe\n",
    "data_main=pd.concat([data1, data2, data3],ignore_index=True, axis=0)\n",
    "data_main.head()"
   ]
  },
  {
   "cell_type": "code",
   "execution_count": null,
   "id": "b2b14c7c",
   "metadata": {
    "colab": {
     "base_uri": "https://localhost:8080/"
    },
    "id": "b2b14c7c",
    "outputId": "d15947cc-8808-4972-9bed-17db4d26fe2e"
   },
   "outputs": [],
   "source": [
    "print(\"The final size and shape of the first dataset is\",data_main.size,'and',data_main.shape,'respectively.')"
   ]
  },
  {
   "cell_type": "code",
   "execution_count": null,
   "id": "f3c5f58f",
   "metadata": {
    "colab": {
     "base_uri": "https://localhost:8080/",
     "height": 206
    },
    "id": "f3c5f58f",
    "outputId": "6495d27f-1894-45da-c446-440ec9d48149"
   },
   "outputs": [],
   "source": [
    "data_main.head()"
   ]
  },
  {
   "cell_type": "markdown",
   "id": "f09f031f",
   "metadata": {
    "id": "f09f031f"
   },
   "source": [
    "# 2. Data Cleansing"
   ]
  },
  {
   "cell_type": "code",
   "execution_count": null,
   "id": "V_PIydEumtuU",
   "metadata": {
    "colab": {
     "base_uri": "https://localhost:8080/"
    },
    "id": "V_PIydEumtuU",
    "outputId": "ad32b552-9aff-4b72-abf8-86642733789e"
   },
   "outputs": [],
   "source": [
    "data_main.info()"
   ]
  },
  {
   "cell_type": "code",
   "execution_count": null,
   "id": "0848475c",
   "metadata": {
    "colab": {
     "base_uri": "https://localhost:8080/",
     "height": 303
    },
    "id": "0848475c",
    "outputId": "87dbf2f3-344f-40e8-ac33-ca4fca61e16f"
   },
   "outputs": [],
   "source": [
    "data_main.dtypes"
   ]
  },
  {
   "cell_type": "markdown",
   "id": "2b41c2b1",
   "metadata": {
    "id": "2b41c2b1"
   },
   "source": [
    "**Observation: P_incidence, P_tilt, L_angle, S_slope, P_radius, S_Degree are decimal numbers and hence float64 is a correct datatype for them. Class is a categorical variable with string values and hence object datatype.**"
   ]
  },
  {
   "cell_type": "code",
   "execution_count": null,
   "id": "2f787616",
   "metadata": {
    "colab": {
     "base_uri": "https://localhost:8080/"
    },
    "id": "2f787616",
    "outputId": "72527223-aae3-4cd9-f2d7-90d7fb1f925e"
   },
   "outputs": [],
   "source": [
    "data_main.isna().sum().sum()  #getting the total null values in the dataset"
   ]
  },
  {
   "cell_type": "markdown",
   "id": "b2a011be",
   "metadata": {
    "id": "b2a011be"
   },
   "source": [
    "**The dataset is clean and has no null values.**\n"
   ]
  },
  {
   "cell_type": "code",
   "execution_count": null,
   "id": "7b241f0e",
   "metadata": {
    "colab": {
     "base_uri": "https://localhost:8080/",
     "height": 303
    },
    "id": "7b241f0e",
    "outputId": "6f401a31-135e-47d5-8ef7-0064be31f857"
   },
   "outputs": [],
   "source": [
    "data_main['Class'].value_counts()"
   ]
  },
  {
   "cell_type": "markdown",
   "id": "755ebc01",
   "metadata": {
    "id": "755ebc01"
   },
   "source": [
    "**It can be seen that there are 6 kind of values in the \"Class\" attribute. Observing that \"tp_s\" is same as \"Type_S\", \"Nrmal\" is same as \"Normal\" and \"type_h\" is same as \"Type_H\". They have to be changed and made similar.**"
   ]
  },
  {
   "cell_type": "code",
   "execution_count": null,
   "id": "a335a50c",
   "metadata": {
    "id": "a335a50c"
   },
   "outputs": [],
   "source": [
    "data_main['Class'].replace(['tp_s', 'Nrmal','type_h'], ['Type_S','Normal','Type_H'], inplace=True)"
   ]
  },
  {
   "cell_type": "code",
   "execution_count": null,
   "id": "d5485ba1",
   "metadata": {
    "colab": {
     "base_uri": "https://localhost:8080/",
     "height": 209
    },
    "id": "d5485ba1",
    "outputId": "cf6bb50f-3f5e-458a-c223-217b515504e0"
   },
   "outputs": [],
   "source": [
    "data_main['Class'].value_counts()"
   ]
  },
  {
   "cell_type": "markdown",
   "id": "c21d1db5",
   "metadata": {
    "id": "c21d1db5"
   },
   "source": [
    "**As it can be seen from above, the dataset is modified with necessary changes.**"
   ]
  },
  {
   "cell_type": "markdown",
   "id": "3c1456ac",
   "metadata": {
    "id": "3c1456ac"
   },
   "source": [
    "# 3. Data analysis & visualisation"
   ]
  },
  {
   "cell_type": "code",
   "execution_count": null,
   "id": "6af5b67f",
   "metadata": {
    "colab": {
     "base_uri": "https://localhost:8080/",
     "height": 300
    },
    "id": "6af5b67f",
    "outputId": "254de80e-9836-4eb7-b4bd-71d31b86e354"
   },
   "outputs": [],
   "source": [
    "data_main.describe().round(2)  #doing statistical analysis on the dataset"
   ]
  },
  {
   "cell_type": "markdown",
   "id": "ebc05194",
   "metadata": {
    "id": "ebc05194"
   },
   "source": [
    "**Observations:**\n",
    "\n",
    "**1. The mean and median for P_incidence, P_tilt, L_angle, S_slope and P_radius are almost equal.**\n",
    "\n",
    "**2. P_tilt and S_degree have negative values.**\n"
   ]
  },
  {
   "cell_type": "markdown",
   "id": "d0f23dfc",
   "metadata": {
    "id": "d0f23dfc"
   },
   "source": [
    "##  Univariate analysis"
   ]
  },
  {
   "cell_type": "code",
   "execution_count": null,
   "id": "5b4e5924",
   "metadata": {
    "colab": {
     "base_uri": "https://localhost:8080/",
     "height": 1000
    },
    "id": "5b4e5924",
    "outputId": "1fee8e43-5113-48f0-9dd1-d8543d049dff"
   },
   "outputs": [],
   "source": [
    "plt.figure(figsize=(20,6))\n",
    "plt.margins(y=0.3)\n",
    "plt.subplot(1,3,1)\n",
    "sns.distplot(data_main['P_incidence'],color='red')\n",
    "\n",
    "plt.subplot(1,3,2)\n",
    "sns.distplot(data_main['P_tilt'],color='blue').set(ylabel=None)\n",
    "\n",
    "plt.subplot(1,3,3)\n",
    "sns.distplot(data_main['L_angle'],color = 'green').set(ylabel=None)\n",
    "\n",
    "plt.suptitle(\"Distribution plots for numerical attributes P_incidence, P_tilt and L_angle\")\n",
    "\n",
    "plt.figure(figsize=(20,7))\n",
    "plt.subplot(1,3,1)\n",
    "sns.boxplot(y=data_main['P_incidence'],color='red',width = 0.5)\n",
    "\n",
    "plt.subplot(1,3,2)\n",
    "sns.boxplot(y=data_main['P_tilt'],color='blue', width = 0.5)\n",
    "\n",
    "plt.subplot(1,3,3)\n",
    "sns.boxplot(y=data_main['L_angle'],color = 'green', width = 0.5)\n",
    "\n",
    "plt.suptitle(\"Box plots for numerical attributes P_incidence, P_tilt and L_angle\")\n"
   ]
  },
  {
   "cell_type": "markdown",
   "id": "5e58a9f1",
   "metadata": {
    "id": "5e58a9f1"
   },
   "source": [
    "**Observations:**\n",
    "\n",
    "**1. The attribute P_incidence has 3 outliers and most of the values lie below 70.**\n",
    "\n",
    "**2. The attribute P_tilt has several outliers with one outlier being below the lower whisker. Most of the values lie between 10 and 25. The distribution looks normal.**\n",
    "\n",
    "**3. The attribute L_angle has 1 outlier and most of the values lie between 40 to 60. The distribution looks normal.**"
   ]
  },
  {
   "cell_type": "code",
   "execution_count": null,
   "id": "a3135231",
   "metadata": {
    "colab": {
     "base_uri": "https://localhost:8080/",
     "height": 1000
    },
    "id": "a3135231",
    "outputId": "2c512e15-83a7-4bfe-a3a7-7f1d7ac67610"
   },
   "outputs": [],
   "source": [
    "plt.figure(figsize=(20,6))\n",
    "plt.margins(y=0.3)\n",
    "plt.subplot(1,3,1)\n",
    "sns.distplot(data_main['S_slope'],color='red')\n",
    "\n",
    "plt.subplot(1,3,2)\n",
    "sns.distplot(data_main['P_radius'],color='blue').set(ylabel=None)\n",
    "\n",
    "plt.subplot(1,3,3)\n",
    "sns.distplot(data_main['S_Degree'],color = 'green').set(ylabel=None)\n",
    "\n",
    "plt.suptitle(\"Distribution plots for numerical attributes S_Slope, P_radius and S_Degree\")\n",
    "\n",
    "plt.figure(figsize=(20,7))\n",
    "plt.subplot(1,3,1)\n",
    "sns.boxplot(y=data_main['S_slope'],color='red',width = 0.5)\n",
    "\n",
    "plt.subplot(1,3,2)\n",
    "sns.boxplot(y=data_main['P_radius'],color='blue', width = 0.5)\n",
    "\n",
    "plt.subplot(1,3,3)\n",
    "sns.boxplot(y=data_main['S_Degree'],color = 'green', width = 0.5)\n",
    "\n",
    "plt.suptitle(\"Box plots for numerical attributes S_Slope, P_radius and S_Degree\")\n"
   ]
  },
  {
   "cell_type": "markdown",
   "id": "fc551bc1",
   "metadata": {
    "id": "fc551bc1"
   },
   "source": [
    "**Observations:**\n",
    "\n",
    "**1. The attribute S_slope is skewed towards the right with one outlier with most of the data lying below 60.**\n",
    "\n",
    "**2. The attribute P_radius looks like it follows normal distribution with outliers both beyond upper whisker and below lower whisker.**\n",
    "\n",
    "**3. The attribute S_Degree is right skewed and has various outliers.**\n",
    "\n",
    "**Now let us figure out the number of outliers in each column.**"
   ]
  },
  {
   "cell_type": "code",
   "execution_count": null,
   "id": "74ca6a24",
   "metadata": {
    "colab": {
     "base_uri": "https://localhost:8080/"
    },
    "id": "74ca6a24",
    "outputId": "99113000-fe8a-4f9b-fdf8-29fc34a2bbe6"
   },
   "outputs": [],
   "source": [
    "col_names = ['P_incidence','P_tilt','L_angle','S_slope','P_radius','S_Degree']\n",
    "data_no_outliers = data_main.copy(deep=True)  # making a copy of the original dataframe where there will be no outliers\n",
    "for i in col_names:\n",
    "    q25,q75=np.percentile(data_main[i],25),np.percentile(data_main[i],75)\n",
    "    IQR=q75-q25\n",
    "    Threshold=IQR*1.5\n",
    "    lower,upper=q25-Threshold,q75+Threshold\n",
    "    outliers=[j for j in data_main[i] if j < lower or j > upper]\n",
    "    for k in outliers:\n",
    "        data_no_outliers.drop(data_no_outliers.index[data_no_outliers[i]==k],inplace=True,axis=0)  # removing outliers in the copied dataframe\n",
    "    print('Total Number of outliers in the attribute',i,'is',len(outliers))"
   ]
  },
  {
   "cell_type": "code",
   "execution_count": null,
   "id": "ed3018e0",
   "metadata": {
    "colab": {
     "base_uri": "https://localhost:8080/"
    },
    "id": "ed3018e0",
    "outputId": "116b069e-83aa-4710-fac4-ef63a2c7a230"
   },
   "outputs": [],
   "source": [
    "print('The shape of the dataset without any outlier is',data_no_outliers.shape)"
   ]
  },
  {
   "cell_type": "code",
   "execution_count": null,
   "id": "a7ba5daa",
   "metadata": {
    "colab": {
     "base_uri": "https://localhost:8080/",
     "height": 1000
    },
    "id": "a7ba5daa",
    "outputId": "9c4ef23c-3446-4f80-a189-72146be9278a",
    "scrolled": true
   },
   "outputs": [],
   "source": [
    "plt.figure(figsize=(10,5))\n",
    "plt.subplots_adjust(wspace=0.5)\n",
    "plt.subplot(1,2,1)\n",
    "sns.countplot(x=data_main['Class'],order = data_main['Class'].value_counts().index)\n",
    "\n",
    "plt.subplot(1,2,2)\n",
    "data_main['Class'].value_counts().plot.pie(autopct='%1.1f%%')\n",
    "\n",
    "plt.suptitle('Distribution of Class attribute with outliers')\n",
    "\n",
    "plt.figure(figsize=(10,5))\n",
    "plt.subplots_adjust(wspace=0.5)\n",
    "plt.subplot(1,2,1)\n",
    "sns.countplot(x=data_no_outliers['Class'],order = data_no_outliers['Class'].value_counts().index)\n",
    "\n",
    "plt.subplot(1,2,2)\n",
    "data_no_outliers['Class'].value_counts().plot.pie(autopct='%1.1f%%')\n",
    "\n",
    "plt.suptitle('Distribution of Class attribute without outliers')\n"
   ]
  },
  {
   "cell_type": "markdown",
   "id": "ab8858f4",
   "metadata": {
    "id": "ab8858f4"
   },
   "source": [
    "**Observations:**\n",
    "\n",
    "**1. With Outliers: Type_S has the highest Class attribute values, a total of 48.4% , followed by Normal (32.3%) and then Type_H (19.4%).**\n",
    "\n",
    "**2. Without Outliers: Type_S has the highest Class attribute values, a total of 43.7% , followed by Normal (35.5%) and then Type_H (20.8%).**\n",
    "\n",
    "**3. There is imbalance in the Class attribute, both with outliers and without it.**"
   ]
  },
  {
   "cell_type": "markdown",
   "id": "367c549f",
   "metadata": {
    "id": "367c549f"
   },
   "source": [
    "## 3.2. Bivariate analysis"
   ]
  },
  {
   "cell_type": "code",
   "execution_count": null,
   "id": "e7255707",
   "metadata": {
    "colab": {
     "base_uri": "https://localhost:8080/",
     "height": 861
    },
    "id": "e7255707",
    "outputId": "8ee2a651-4384-4541-a4b2-dc42d41174a1"
   },
   "outputs": [],
   "source": [
    "# correlation map\n",
    "# doing analysis including the outliers\n",
    "f, ax = plt.subplots(figsize=(10,10))\n",
    "sns.heatmap(data_main[['P_incidence','P_tilt','L_angle','S_slope','P_radius','S_Degree']].corr(), annot=True, linewidth=\".5\", cmap=\"RdPu\", fmt=\".2f\", ax = ax)\n",
    "plt.title(\"Correlation Map\",fontsize=20)\n",
    "plt.show()"
   ]
  },
  {
   "cell_type": "markdown",
   "id": "90d94bdc",
   "metadata": {
    "id": "90d94bdc"
   },
   "source": [
    "**Observations:**\n",
    "\n",
    "**1. P_incidence has good positive correlation with P_tilt(0.63), L_angle(0.72), S_slope(0.81) and S_degree(0.64) but a low negative correlation with P-radius(-0.25).**\n",
    "\n",
    "**2. P_tilt has good positive correlation with P_incidence(0.63), low positive correlation with L_angle (0.43) and S_Degree(0.40) but almost no correlation at all with S_slope(0.06) and P_radius(0.03).**\n",
    "\n",
    "**3. L_angle has good positive correlation with P_incidence(0.72), S_slope(0.60) and S_Degree(0.53), low positive correlation with P_tilt(0.43) but almost no correlation with P_radius (-0.08).**\n",
    "\n",
    "**4. S_slope has good correlation with P_incidence(0.81), L_angle(0.60) and S_degree(0.52), low negative correlation with P_radius(-0.34) and almost no correlation with P_tilt(0.06).**\n",
    "\n",
    "**5. P_radius has low negative correlation with P_incidence(-0.25), S_slope(-0.34) and almost no correlation with P_tilt(0.03), L_angle(-0.08) and S_degree(-0.03).**\n",
    "\n",
    "**6. S_Degree has good positive correlation with P_incidence(0.64), P_tilt(0.40), L_angle(0.53), S_slope(0.52) and almost no correlation with P_radius (-0.03).**"
   ]
  },
  {
   "cell_type": "code",
   "execution_count": null,
   "id": "68305915",
   "metadata": {
    "colab": {
     "base_uri": "https://localhost:8080/"
    },
    "id": "68305915",
    "outputId": "3937376d-13d8-4aa8-d397-5cc98ef86a47"
   },
   "outputs": [],
   "source": [
    "# doing pairplot including the outliers\n",
    "sns.pairplot(data=data_main,hue=\"Class\",palette=\"Set1\",diag_kind='hist')\n",
    "plt.suptitle(\"Pair Plot of Data\",fontsize=20)\n",
    "plt.show()   # pairplot without standard deviaton fields of data"
   ]
  },
  {
   "cell_type": "markdown",
   "id": "9ef141d8",
   "metadata": {
    "id": "9ef141d8"
   },
   "source": [
    "**Observations:**\n",
    "\n",
    "**1. People with high values of P_incidence, P_tilt, L_angle, S_slope and S_Degree fall under Type_S kind of Class.**\n",
    "\n",
    "**2. Normal and Type_H kind of class have most of the data overlapping.**"
   ]
  },
  {
   "cell_type": "markdown",
   "id": "c63845fe",
   "metadata": {
    "id": "c63845fe"
   },
   "source": [
    "# Domain 2: Banking and Finance"
   ]
  },
  {
   "cell_type": "markdown",
   "id": "-JVoR5A3osxg",
   "metadata": {
    "id": "-JVoR5A3osxg"
   },
   "source": [
    "# 1. Importing data"
   ]
  },
  {
   "cell_type": "code",
   "execution_count": null,
   "id": "da8cf1c7",
   "metadata": {
    "id": "da8cf1c7"
   },
   "outputs": [],
   "source": [
    "data1 = pd.read_csv('/content/drive/My Drive/Corizo/Class 4/Part2 - Data1.csv')\n",
    "data2 = pd.read_csv('/content/drive/My Drive/Corizo/Class 4/Part2 -Data2.csv')"
   ]
  },
  {
   "cell_type": "code",
   "execution_count": null,
   "id": "28dfd693",
   "metadata": {
    "colab": {
     "base_uri": "https://localhost:8080/"
    },
    "id": "28dfd693",
    "outputId": "ec37cefd-19c9-4b62-8cd7-283247ccffa3"
   },
   "outputs": [],
   "source": [
    "print(\"The size and shape of the first dataset is\",data1.size,'and',data1.shape,'respectively.')\n",
    "print(\"The size and shape of the second dataset is\",data2.size,'and',data2.shape,'respectively.')"
   ]
  },
  {
   "cell_type": "code",
   "execution_count": null,
   "id": "11a62e64",
   "metadata": {
    "colab": {
     "base_uri": "https://localhost:8080/",
     "height": 206
    },
    "id": "11a62e64",
    "outputId": "9ef49956-1ac4-4885-8834-dbc47d2fc2ba"
   },
   "outputs": [],
   "source": [
    "data1.head()"
   ]
  },
  {
   "cell_type": "code",
   "execution_count": null,
   "id": "e7dd40c2",
   "metadata": {
    "colab": {
     "base_uri": "https://localhost:8080/",
     "height": 206
    },
    "id": "e7dd40c2",
    "outputId": "f3fbbf3e-fd88-4c77-89c4-43ceed3d0f35"
   },
   "outputs": [],
   "source": [
    "data2.head()"
   ]
  },
  {
   "cell_type": "markdown",
   "id": "82d90fa6",
   "metadata": {
    "id": "82d90fa6"
   },
   "source": [
    "Since 'ID' is the common attribute between the two datasets, I merged the two datasets on 'ID'."
   ]
  },
  {
   "cell_type": "code",
   "execution_count": null,
   "id": "8dff8cc0",
   "metadata": {
    "id": "8dff8cc0"
   },
   "outputs": [],
   "source": [
    "data_concat = data1.merge(data2, on='ID')\n",
    "#data_concat.drop(['ID'],axis=1,inplace=True)"
   ]
  },
  {
   "cell_type": "code",
   "execution_count": 30,
   "id": "cBGrow70yyV1",
   "metadata": {
    "colab": {
     "base_uri": "https://localhost:8080/",
     "height": 206
    },
    "id": "cBGrow70yyV1",
    "outputId": "5557be9f-d1bc-41ce-f7b3-143681c91f6a"
   },
   "outputs": [
    {
     "ename": "NameError",
     "evalue": "name 'data_concat' is not defined",
     "output_type": "error",
     "traceback": [
      "\u001b[31m---------------------------------------------------------------------------\u001b[39m",
      "\u001b[31mNameError\u001b[39m                                 Traceback (most recent call last)",
      "\u001b[36mCell\u001b[39m\u001b[36m \u001b[39m\u001b[32mIn[30]\u001b[39m\u001b[32m, line 1\u001b[39m\n\u001b[32m----> \u001b[39m\u001b[32m1\u001b[39m \u001b[43mdata_concat\u001b[49m.head()\n",
      "\u001b[31mNameError\u001b[39m: name 'data_concat' is not defined"
     ]
    }
   ],
   "source": [
    "data_concat.head()"
   ]
  },
  {
   "cell_type": "code",
   "execution_count": null,
   "id": "cbf64aa9",
   "metadata": {
    "colab": {
     "base_uri": "https://localhost:8080/"
    },
    "id": "cbf64aa9",
    "outputId": "fd0c91bd-a1f3-4ed0-d484-2fce24a4c9bb"
   },
   "outputs": [],
   "source": [
    "print(\"The size and shape of the final dataset is\",data_concat.size,'and',data_concat.shape,'respectively.')"
   ]
  },
  {
   "cell_type": "code",
   "execution_count": null,
   "id": "6a07ef98",
   "metadata": {
    "colab": {
     "base_uri": "https://localhost:8080/",
     "height": 206
    },
    "id": "6a07ef98",
    "outputId": "73a939f3-7b85-4900-bbb0-3136c079ab21"
   },
   "outputs": [],
   "source": [
    "data_concat.head()"
   ]
  },
  {
   "cell_type": "markdown",
   "id": "b3895f61",
   "metadata": {
    "id": "b3895f61"
   },
   "source": [
    "By closely observing the data and description given about each column attribute, it can be said that:\n",
    "\n",
    "1. <b>Numeric data columns (Interval or Ratio) are</b>: Age, CustomerSince, HighestSpend, MonthlyAverageSpend, Mortgage, ZipCode     \n",
    "\n",
    "2. <b>Ordinal Categorical columns are</b>: HiddenScore, Level\n",
    "\n",
    "3. <b>Nominal Categorical columns are</b>: ID, Security, FixedDepositAccount, InternetBanking, CreditCard, LoanOnCard."
   ]
  },
  {
   "cell_type": "markdown",
   "id": "ff9567b3",
   "metadata": {
    "id": "ff9567b3"
   },
   "source": [
    "# 2. Data cleansing"
   ]
  },
  {
   "cell_type": "code",
   "execution_count": null,
   "id": "97f5e9a6",
   "metadata": {
    "colab": {
     "base_uri": "https://localhost:8080/",
     "height": 523
    },
    "id": "97f5e9a6",
    "outputId": "5960fed6-eb86-4497-f3b7-6d12cf3a1670"
   },
   "outputs": [],
   "source": [
    "data_concat.dtypes"
   ]
  },
  {
   "cell_type": "markdown",
   "id": "5610982f",
   "metadata": {
    "id": "5610982f"
   },
   "source": [
    "There are two attributes namely, <b>MonthlyAverageSpend</b> and <b>LoanOnCard</b>, which belong to the data type <b>float 64</b>. Rest of the attributes are of the type <b>int 64</b>. The datatypes look correct as all the data entries are numeric in nature and hence they are either int64 or float64."
   ]
  },
  {
   "cell_type": "code",
   "execution_count": null,
   "id": "9f9dbf82",
   "metadata": {
    "colab": {
     "base_uri": "https://localhost:8080/",
     "height": 206
    },
    "id": "9f9dbf82",
    "outputId": "8dd43d09-43be-4eb5-a77f-c90a174fb121"
   },
   "outputs": [],
   "source": [
    "data_concat.head()"
   ]
  },
  {
   "cell_type": "markdown",
   "id": "d9e7ef30",
   "metadata": {
    "id": "d9e7ef30"
   },
   "source": [
    "<b>Note that the ID column is of no use in building the model. Hence, it can be dropped.</b>"
   ]
  },
  {
   "cell_type": "code",
   "execution_count": null,
   "id": "e2ce42b8",
   "metadata": {
    "id": "e2ce42b8"
   },
   "outputs": [],
   "source": [
    "data_concat.drop('ID',axis=1,inplace=True)"
   ]
  },
  {
   "cell_type": "code",
   "execution_count": null,
   "id": "236dde29",
   "metadata": {
    "colab": {
     "base_uri": "https://localhost:8080/",
     "height": 206
    },
    "id": "236dde29",
    "outputId": "b997cae0-f48f-4069-c69a-9f1abf31ba88"
   },
   "outputs": [],
   "source": [
    "data_concat.head()"
   ]
  },
  {
   "cell_type": "code",
   "execution_count": null,
   "id": "db434d14",
   "metadata": {
    "colab": {
     "base_uri": "https://localhost:8080/",
     "height": 491
    },
    "id": "db434d14",
    "outputId": "eb2d8406-167a-430b-a558-481c5c254100"
   },
   "outputs": [],
   "source": [
    "data_concat.isnull().sum()"
   ]
  },
  {
   "cell_type": "code",
   "execution_count": null,
   "id": "c406aae6",
   "metadata": {
    "colab": {
     "base_uri": "https://localhost:8080/",
     "height": 209
    },
    "id": "c406aae6",
    "outputId": "31e3adb7-cdbd-4686-d52f-f432fab67380"
   },
   "outputs": [],
   "source": [
    "data_concat['LoanOnCard'].value_counts(dropna=False)"
   ]
  },
  {
   "cell_type": "markdown",
   "id": "03347a88",
   "metadata": {
    "id": "03347a88"
   },
   "source": [
    "<b>Since the number of '0's in the attribute LoanOnCard are far more than '1's, I filled the NaN values with the mode(0).</b>"
   ]
  },
  {
   "cell_type": "code",
   "execution_count": null,
   "id": "b3d2d3ef",
   "metadata": {
    "colab": {
     "base_uri": "https://localhost:8080/"
    },
    "id": "b3d2d3ef",
    "outputId": "8005c06c-7d20-4f81-aac6-7bb89cda2d20"
   },
   "outputs": [],
   "source": [
    "data_concat['LoanOnCard'].fillna(value=0,inplace=True)\n",
    "print(\"The total NaN values in the dataframe are\",data_concat.isnull().sum().sum())\n",
    "print(\"The final shape of the dataframe after data cleansing is\",data_concat.shape)"
   ]
  },
  {
   "cell_type": "code",
   "execution_count": null,
   "id": "afe6ae8a",
   "metadata": {
    "colab": {
     "base_uri": "https://localhost:8080/",
     "height": 457
    },
    "id": "afe6ae8a",
    "outputId": "c6c53ed6-84a5-452b-b6a0-ad79de8f6102",
    "scrolled": true
   },
   "outputs": [],
   "source": [
    "data_concat.describe().T"
   ]
  },
  {
   "cell_type": "code",
   "execution_count": null,
   "id": "na4r3KdR0slT",
   "metadata": {
    "colab": {
     "base_uri": "https://localhost:8080/"
    },
    "id": "na4r3KdR0slT",
    "outputId": "4ddd4d7d-0844-4955-ca07-0f154cb63d37"
   },
   "outputs": [],
   "source": [
    "data_concat[data_concat['CustomerSince']<0].shape[0]\n",
    "# .shape[0]"
   ]
  },
  {
   "cell_type": "code",
   "execution_count": null,
   "id": "hj0PlD6Gq3ou",
   "metadata": {
    "colab": {
     "base_uri": "https://localhost:8080/",
     "height": 209
    },
    "id": "hj0PlD6Gq3ou",
    "outputId": "617c1820-261c-4e84-e1de-041a84db9f86"
   },
   "outputs": [],
   "source": [
    "data_concat[data_concat['CustomerSince']<0]['CustomerSince'].value_counts()"
   ]
  },
  {
   "cell_type": "markdown",
   "id": "40176ba0",
   "metadata": {
    "id": "40176ba0"
   },
   "source": [
    "<b>There are 52 negative entries in the CustomerSince column.</b>"
   ]
  },
  {
   "cell_type": "markdown",
   "id": "e307762e",
   "metadata": {
    "id": "e307762e"
   },
   "source": [
    "There there unique negative entries -1,-2 and -3 in the CustomerSince column.\n",
    "\n",
    "**Let us clean the CustomerSince column by removing the negative entries with appropriate values**\n",
    "\n",
    "In order to get the appropriate values, let take a cue from correlation of CustomerSince attribute with other attributes"
   ]
  },
  {
   "cell_type": "code",
   "execution_count": null,
   "id": "f496e7e2",
   "metadata": {
    "colab": {
     "base_uri": "https://localhost:8080/",
     "height": 995
    },
    "id": "f496e7e2",
    "outputId": "926e3914-9b7d-46e2-d579-29a1d4d20c81"
   },
   "outputs": [],
   "source": [
    "# Above table represented more elegently using heatmap\n",
    "plt.figure(figsize=(12,10))\n",
    "sns.heatmap(data_concat.corr(),cmap='YlGnBu',annot=True)"
   ]
  },
  {
   "cell_type": "markdown",
   "id": "c33973c0",
   "metadata": {
    "id": "c33973c0"
   },
   "source": [
    "**Observations:**\n",
    "\n",
    "**1. Age and CustomerSince attributes are highly correlated (0.99).**\n",
    "\n",
    "**2. MonthlyAverageSpend has good correlation with HighestSpend(0.65) which is quite intuitive.**\n",
    "\n",
    "**3. LoanOnCard attribute has good correlation with HighestSpend, MonthlyAverageSpend and FixedDepositAccount but almost close to 0 correlation with other attributes.**"
   ]
  },
  {
   "cell_type": "code",
   "execution_count": null,
   "id": "fd664b8f",
   "metadata": {
    "colab": {
     "base_uri": "https://localhost:8080/"
    },
    "id": "fd664b8f",
    "outputId": "91966744-d510-44e7-b694-7138cf6ef0c6"
   },
   "outputs": [],
   "source": [
    "# Let us find the unique ages which have -1, -2 and -3 entries in the CustomerSince column\n",
    "val_cal = data_concat[data_concat['CustomerSince'] == -1]['Age'].value_counts()\n",
    "print(val_cal)"
   ]
  },
  {
   "cell_type": "code",
   "execution_count": null,
   "id": "aa170438",
   "metadata": {
    "id": "aa170438"
   },
   "outputs": [],
   "source": [
    "# We will find the mean of positive CustomerSince values for the ages corresponding to negative values and use it to replace all the CustomerSince entries\n",
    "# having negative value\n",
    "\n",
    "k=[-1,-2,-3]\n",
    "for j in k:\n",
    "    list3 = data_concat[data_concat['CustomerSince'] == j]['Age'].value_counts().index.tolist()  # contains list of ages where customersince = -1, -2 or -3\n",
    "    list4 = data_concat[data_concat['CustomerSince'] == j]['CustomerSince'].index.tolist()  # contains index locations where customersince = -1, -2 or -3\n",
    "    for i in list4:\n",
    "        data_concat.loc[i,'CustomerSince'] = data_concat[(data_concat['Age'].isin(list3)) & (data_concat['CustomerSince'] > 0)]['CustomerSince'].mean()"
   ]
  },
  {
   "cell_type": "code",
   "execution_count": null,
   "id": "T5q1eaGEWkOd",
   "metadata": {
    "id": "T5q1eaGEWkOd"
   },
   "outputs": [],
   "source": []
  },
  {
   "cell_type": "code",
   "execution_count": null,
   "id": "4a2bc4a6",
   "metadata": {
    "colab": {
     "base_uri": "https://localhost:8080/",
     "height": 335
    },
    "id": "4a2bc4a6",
    "outputId": "78531842-9b42-404e-e333-5d24b4dd96ec"
   },
   "outputs": [],
   "source": [
    "data_concat['CustomerSince'].describe()"
   ]
  },
  {
   "cell_type": "markdown",
   "id": "0b226160",
   "metadata": {
    "id": "0b226160"
   },
   "source": [
    "#### As it can be seen that the minimum value for the attribute CustomerSince is no more negative. The dataset is now clean to work with."
   ]
  },
  {
   "cell_type": "markdown",
   "id": "08579b9f",
   "metadata": {
    "id": "08579b9f"
   },
   "source": [
    "# 3. Data analysis and visualization"
   ]
  },
  {
   "cell_type": "markdown",
   "id": "6813676d",
   "metadata": {
    "id": "6813676d"
   },
   "source": [
    "## a. Univariate Analysis"
   ]
  },
  {
   "cell_type": "code",
   "execution_count": null,
   "id": "0d40b079",
   "metadata": {
    "colab": {
     "base_uri": "https://localhost:8080/",
     "height": 716
    },
    "id": "0d40b079",
    "outputId": "af9a189d-c38c-4fd1-ca50-030ac03654db"
   },
   "outputs": [],
   "source": [
    "#Age, CustomerSince, HighestSpend, MonthlyAverageSpend, Mortgage\n",
    "\n",
    "plt.figure(figsize=(20,5))\n",
    "plt.margins(y=0.3)\n",
    "plt.subplot(1,5,1)\n",
    "sns.distplot(data_concat['Age'],color='red')\n",
    "\n",
    "plt.subplot(1,5,2)\n",
    "sns.distplot(data_concat['CustomerSince'],color='blue').set(ylabel=None)\n",
    "\n",
    "plt.subplot(1,5,3)\n",
    "sns.distplot(data_concat['HighestSpend'],color = 'green').set(ylabel=None)\n",
    "\n",
    "plt.subplot(1,5,4)\n",
    "sns.distplot(data_concat['MonthlyAverageSpend'],color = 'magenta').set(ylabel=None)\n",
    "\n",
    "plt.subplot(1,5,5)\n",
    "sns.distplot(data_concat['Mortgage'],color = 'pink').set(ylabel=None)\n",
    "\n",
    "plt.suptitle('Distribution of Age, CustomerSince, HighestSpend, MonthlyAverageSpend and Mortgage attribute')\n",
    "\n",
    "plt.figure(figsize=(22,5))\n",
    "plt.subplot(1,5,1)\n",
    "sns.boxplot(y=data_concat['Age'],color='red',width = 0.5)\n",
    "\n",
    "plt.subplot(1,5,2)\n",
    "sns.boxplot(y=data_concat['CustomerSince'],color='blue', width = 0.5)\n",
    "\n",
    "plt.subplot(1,5,3)\n",
    "sns.boxplot(y=data_concat['HighestSpend'],color = 'green', width = 0.5)\n",
    "\n",
    "plt.subplot(1,5,4)\n",
    "sns.boxplot(y=data_concat['MonthlyAverageSpend'],color = 'magenta', width = 0.5)\n",
    "\n",
    "plt.subplot(1,5,5)\n",
    "sns.boxplot(y=data_concat['Mortgage'],color = 'pink', width = 0.5)"
   ]
  },
  {
   "cell_type": "markdown",
   "id": "747933a5",
   "metadata": {
    "id": "747933a5"
   },
   "source": [
    "**Observations:**\n",
    "\n",
    "1. The <b>Age</b> attribute has no outlier and most of the customers have ages between 35 to 55.\n",
    "2. The <b>CustomerSince</b> attribute has no outlier and most of the customers are with the bank since 10 to 30 years.\n",
    "3. The <b>HighestSpend attribute</b> is right skewed with some outliers (customers with highest spend more than 180 units) with most of the HighestSpend lying between 50 to 100 units.\n",
    "4. The <b>MonthlyAverageSpend</b> is right skewed with a lot of  outliers (customers with monthly average spend more than 5 units) with most of the Monthly average spend lying below 3.\n",
    "5. The <b>Mortgage</b> attribute is skewed towards the right because of many customers who have 0 Mortgage which shifts the distribution towards right. This brings in a lot of outliers. Also note that there is no lower whisker for the attribute which means that at least 25% of the observed values are 0, so the lower quartile is also 0."
   ]
  },
  {
   "cell_type": "code",
   "execution_count": null,
   "id": "139263be",
   "metadata": {
    "colab": {
     "base_uri": "https://localhost:8080/",
     "height": 760
    },
    "id": "139263be",
    "outputId": "f5235fe7-cdad-4fcc-e99e-4b23017660ff"
   },
   "outputs": [],
   "source": [
    "# Since it is a ordinal categorical variable, we will use countplot\n",
    "plt.figure(figsize=(18,10))\n",
    "sns.distplot(data_concat['ZipCode'],color='darkgreen').set(title='ZipCode distribution')\n",
    "print(\"The unique values in the attribute ZipCode are \",data_concat['ZipCode'].nunique())"
   ]
  },
  {
   "cell_type": "markdown",
   "id": "0ca89c7d",
   "metadata": {
    "id": "0ca89c7d"
   },
   "source": [
    "**There are 467 unique values in the attribute ZipCode and follows the distribution as shown above. ZipCode is not an important feature as can be seen from its distribution and hence can be removed from the dataset.**"
   ]
  },
  {
   "cell_type": "code",
   "execution_count": null,
   "id": "d3030d3f",
   "metadata": {
    "id": "d3030d3f"
   },
   "outputs": [],
   "source": [
    "data_concat.drop('ZipCode',axis=1,inplace=True)"
   ]
  },
  {
   "cell_type": "code",
   "execution_count": null,
   "id": "05bb4e0c",
   "metadata": {
    "colab": {
     "base_uri": "https://localhost:8080/",
     "height": 854
    },
    "id": "05bb4e0c",
    "outputId": "1b665ec3-2610-437e-9cb4-9467a0ceb77e"
   },
   "outputs": [],
   "source": [
    "plt.figure(figsize=(10,5))\n",
    "plt.subplot(1,2,1)\n",
    "sns.countplot(data = data_concat, x= 'HiddenScore', order = data_concat['HiddenScore'].value_counts().index)\n",
    "\n",
    "plt.subplot(1,2,2)\n",
    "sns.countplot(data = data_concat, x= 'Level',order = data_concat['Level'].value_counts().index).set(ylabel=None)\n",
    "\n",
    "plt.figure(figsize=(10,5))\n",
    "plt.subplot(1,2,1)\n",
    "data_concat['HiddenScore'].value_counts().plot.pie(autopct='%1.1f%%')\n",
    "\n",
    "plt.subplot(1,2,2)\n",
    "data_concat['Level'].value_counts().plot.pie(autopct='%1.1f%%')"
   ]
  },
  {
   "cell_type": "markdown",
   "id": "cad5828c",
   "metadata": {
    "id": "cad5828c"
   },
   "source": [
    "**Observations:**\n",
    "\n",
    "1. The <b>HiddenScore</b> attribute shows nearly equal distribution of categories  2 and 4 (close to 25%) with customers having HiddenScore 1 being the most (30%) and customers with HiddenScore of 4 being the least (20%).\n",
    "2. The <b>Level</b> attribute has more Level 1 (42%) customers than Level 2 and 3 which have nearly equal distributions(close to 30%)."
   ]
  },
  {
   "cell_type": "code",
   "execution_count": null,
   "id": "6ebb59ee",
   "metadata": {
    "colab": {
     "base_uri": "https://localhost:8080/",
     "height": 613
    },
    "id": "6ebb59ee",
    "outputId": "029c2a1d-05ee-418a-f58d-800aae2db7a0"
   },
   "outputs": [],
   "source": [
    "#HiddenScore, Level, ID, ZipCode, Security, FixedDepositAccount, InternetBanking, CreditCard, LoanOnCard.\n",
    "\n",
    "plt.figure(figsize=(20,5))\n",
    "plt.margins(y=0.3)\n",
    "\n",
    "plt.subplot(1,5,1)\n",
    "sns.countplot(data = data_concat, x='Security')\n",
    "\n",
    "plt.subplot(1,5,2)\n",
    "sns.countplot(data = data_concat, x= 'FixedDepositAccount').set(ylabel=None)\n",
    "\n",
    "plt.subplot(1,5,3)\n",
    "sns.countplot(data = data_concat, x= 'InternetBanking').set(ylabel=None)\n",
    "\n",
    "plt.subplot(1,5,4)\n",
    "sns.countplot(data = data_concat, x='CreditCard').set(ylabel=None)\n",
    "\n",
    "plt.subplot(1,5,5)\n",
    "sns.countplot(data = data_concat, x='LoanOnCard').set(ylabel=None)\n",
    "\n",
    "plt.figure(figsize=(20,5))\n",
    "plt.margins(y=0.3)\n",
    "\n",
    "plt.subplot(1,5,1)\n",
    "data_concat['Security'].value_counts().plot.pie(autopct='%1.1f%%',shadow=True)\n",
    "\n",
    "plt.subplot(1,5,2)\n",
    "data_concat['FixedDepositAccount'].value_counts().plot.pie(autopct='%1.1f%%',shadow=True)\n",
    "\n",
    "plt.subplot(1,5,3)\n",
    "data_concat['InternetBanking'].value_counts().plot.pie(autopct='%1.1f%%',shadow=True)\n",
    "\n",
    "plt.subplot(1,5,4)\n",
    "data_concat['CreditCard'].value_counts().plot.pie(autopct='%1.1f%%',shadow=True)\n",
    "\n",
    "plt.subplot(1,5,5)\n",
    "data_concat['LoanOnCard'].value_counts().plot.pie(autopct='%1.1f%%',shadow=True)"
   ]
  },
  {
   "cell_type": "markdown",
   "id": "df3df740",
   "metadata": {
    "id": "df3df740"
   },
   "source": [
    "**Observations:**\n",
    "\n",
    "1. A very high number of customers (90%) do not have <b>Security</b> asset with the bank.\n",
    "2. A very high number of customets (94%) do not have <b>FixedDepositAccount</b> with the bank.\n",
    "3. Almost 60% of customers use <b>InternetBanking</b>.\n",
    "4. A high number of customers (71%) do not use <b>CreditCard</b>.\n",
    "5. A very high number of customers (90%) do not have <b>LoanOnCard</b>.\n",
    "\n"
   ]
  },
  {
   "cell_type": "markdown",
   "id": "dRtIvyQTogQC",
   "metadata": {
    "id": "dRtIvyQTogQC"
   },
   "source": [
    "## b. Bivariate analysis"
   ]
  },
  {
   "cell_type": "markdown",
   "id": "07d6f4a6",
   "metadata": {
    "id": "07d6f4a6"
   },
   "source": [
    "<u>1. Analyzing the Age attribute</u>"
   ]
  },
  {
   "cell_type": "code",
   "execution_count": null,
   "id": "d1bc4d08",
   "metadata": {
    "colab": {
     "base_uri": "https://localhost:8080/",
     "height": 735
    },
    "id": "d1bc4d08",
    "outputId": "6efa7635-c5df-428b-8c6a-39a213377958"
   },
   "outputs": [],
   "source": [
    "plt.figure(figsize=(12,8))\n",
    "sns.distplot(data_concat[data_concat['LoanOnCard'] == 0]['Age'],kde=True, color='b', label='LoanOnCard=0')\n",
    "sns.distplot(data_concat[data_concat['LoanOnCard'] == 1]['Age'],kde=True, color='r',label='LoanOnCard=1')\n",
    "plt.legend()\n",
    "plt.title(\"Distribution of Age attribute with customer division based on Loan\")"
   ]
  },
  {
   "cell_type": "code",
   "execution_count": null,
   "id": "cfe06b22",
   "metadata": {
    "colab": {
     "base_uri": "https://localhost:8080/",
     "height": 206
    },
    "id": "cfe06b22",
    "outputId": "a976409a-f4dc-4c73-8dc9-4e0934635605"
   },
   "outputs": [],
   "source": [
    "age_cut = pd.cut(data_concat['Age'],bins=[20,30,40,50,60])\n",
    "pd.crosstab(age_cut,data_concat['LoanOnCard']).apply(lambda r: r/r.sum()*100, axis=1)"
   ]
  },
  {
   "cell_type": "markdown",
   "id": "35fe805b",
   "metadata": {
    "id": "35fe805b"
   },
   "source": [
    "**Observations :**\n",
    "\n",
    "**1. From above table as well as distribution plot of Age attribute, one can observe that most of the customers lie in the age group of 30 to 60.**\n",
    "\n",
    "**2. Also,one can observe that 10.5% of the total customers in age group 20-30 have bought LoanOnCard from the bank, while in age groups (30-40), (40-50), there is a conversion rate of around 9.5% and in age group (50-60), there is a conversion rate of 8.7%.**"
   ]
  },
  {
   "cell_type": "markdown",
   "id": "a2627d87",
   "metadata": {
    "id": "a2627d87"
   },
   "source": [
    "<u>2. Analyzing the CustomerSince attribute</u>"
   ]
  },
  {
   "cell_type": "code",
   "execution_count": null,
   "id": "9a1686f8",
   "metadata": {
    "colab": {
     "base_uri": "https://localhost:8080/",
     "height": 735
    },
    "id": "9a1686f8",
    "outputId": "780b3565-c16d-4fb6-c39c-1c3b4fb8d12d"
   },
   "outputs": [],
   "source": [
    "plt.figure(figsize=(12,8))\n",
    "sns.distplot(data_concat[data_concat['LoanOnCard'] == 0]['CustomerSince'],kde=True, color='b', label='LoanOnCard=0')\n",
    "sns.distplot(data_concat[data_concat['LoanOnCard'] == 1]['CustomerSince'],kde=True, color='r',label='LoanOnCard=1')\n",
    "plt.legend()\n",
    "plt.title(\"CustomerSince Distribution\")"
   ]
  },
  {
   "cell_type": "code",
   "execution_count": null,
   "id": "bcf53d89",
   "metadata": {
    "colab": {
     "base_uri": "https://localhost:8080/",
     "height": 237
    },
    "id": "bcf53d89",
    "outputId": "f15d179a-91b9-42bf-cb79-aad45931e2e1"
   },
   "outputs": [],
   "source": [
    "exp_cut = pd.cut(data_concat['CustomerSince'],bins=[0,10,20,30,40,50])\n",
    "pd.crosstab(exp_cut,data_concat['LoanOnCard']).apply(lambda r: r/r.sum()*100, axis=1)"
   ]
  },
  {
   "cell_type": "markdown",
   "id": "a79d9e50",
   "metadata": {
    "id": "a79d9e50"
   },
   "source": [
    "**Observation : One can observe that out of the total customers with CustomerSince in the range 40-50 show a good conversion rate of almost 13% for buying the LoanOnCard, a healthy conversion rate of about 10.30% in the CustomerSince range 0-10, while in the ranges (10-20), (20-30) and (30-40) years of CustomerSince it is around 9%.**"
   ]
  },
  {
   "cell_type": "markdown",
   "id": "9a627b26",
   "metadata": {
    "id": "9a627b26"
   },
   "source": [
    "<u>3. Analyzing the HighestSpend attribute</u>"
   ]
  },
  {
   "cell_type": "code",
   "execution_count": null,
   "id": "bc0d10f7",
   "metadata": {
    "colab": {
     "base_uri": "https://localhost:8080/",
     "height": 735
    },
    "id": "bc0d10f7",
    "outputId": "e90f9d1f-4885-4de2-9894-1646e0041041"
   },
   "outputs": [],
   "source": [
    "plt.figure(figsize=(12,8))\n",
    "sns.distplot(data_concat[data_concat['LoanOnCard'] == 0]['HighestSpend'],kde=True, color='b', label='LoanOnCard=0')\n",
    "sns.distplot(data_concat[data_concat['LoanOnCard'] == 1]['HighestSpend'],kde=True, color='r',label='LoanOnCard=1')\n",
    "plt.legend()\n",
    "plt.title(\"HighestSpend Distribution\")"
   ]
  },
  {
   "cell_type": "code",
   "execution_count": null,
   "id": "18b566d2",
   "metadata": {
    "colab": {
     "base_uri": "https://localhost:8080/",
     "height": 237
    },
    "id": "18b566d2",
    "outputId": "f60f1d36-0286-4722-a572-9007d2cdd940"
   },
   "outputs": [],
   "source": [
    "inc_cut = pd.cut(data_concat['HighestSpend'],bins=[0,50,100,150,200,250])\n",
    "pd.crosstab(inc_cut,data_concat['LoanOnCard']).apply(lambda r: r/r.sum()*100, axis=1)"
   ]
  },
  {
   "cell_type": "markdown",
   "id": "7aba734e",
   "metadata": {
    "id": "7aba734e"
   },
   "source": [
    "**Observation : No customer with HighestSpend < 50 units opted for the LoanOnCard where as half of the cutomers with HighestSpend within the range of 150 to 200 units purchased LoanOnCard. Customers within range of (100 to 150) and (200 to 250) units showed a conversion rate of about 28.6% and 18.8%, respectively.**"
   ]
  },
  {
   "cell_type": "markdown",
   "id": "5fb6bfe9",
   "metadata": {
    "id": "5fb6bfe9"
   },
   "source": [
    "<u>4. Analyzing the HiddenScore attribute</u>"
   ]
  },
  {
   "cell_type": "code",
   "execution_count": null,
   "id": "a1722a6e",
   "metadata": {
    "colab": {
     "base_uri": "https://localhost:8080/",
     "height": 489
    },
    "id": "a1722a6e",
    "outputId": "7f8f9ce0-40fc-409e-ca2b-5073cfe43488"
   },
   "outputs": [],
   "source": [
    "# Since HiddenScore is an ordinal categorical variable, we will use countplot\n",
    "sns.countplot(x='HiddenScore',hue='LoanOnCard',data=data_concat).set(title='HiddenScore distribution')"
   ]
  },
  {
   "cell_type": "code",
   "execution_count": null,
   "id": "8b7e16b0",
   "metadata": {
    "colab": {
     "base_uri": "https://localhost:8080/",
     "height": 206
    },
    "id": "8b7e16b0",
    "outputId": "78ed8848-de8a-4d23-968c-5b63c5f93bb2"
   },
   "outputs": [],
   "source": [
    "pd.crosstab(data_concat['HiddenScore'],data_concat['LoanOnCard']).apply(lambda r: r/r.sum()*100, axis=1)"
   ]
  },
  {
   "cell_type": "markdown",
   "id": "46474ef8",
   "metadata": {
    "id": "46474ef8"
   },
   "source": [
    "**Observation : About 13% customers with HiddenScore of 3 and 11% customers with HiddenScore of 4, purchased LoanOnCards from the bank compared to 8% customers with HiddenScore of 2 and 7% customers with HiddenScore of 1.**"
   ]
  },
  {
   "cell_type": "markdown",
   "id": "3a0ee390",
   "metadata": {
    "id": "3a0ee390"
   },
   "source": [
    "<u>5. Analyzing the MonthlyAverageSpend attribute</u>"
   ]
  },
  {
   "cell_type": "code",
   "execution_count": null,
   "id": "96854ba7",
   "metadata": {
    "colab": {
     "base_uri": "https://localhost:8080/",
     "height": 735
    },
    "id": "96854ba7",
    "outputId": "c703e05f-7c08-45f7-da99-82a9b0df7e40"
   },
   "outputs": [],
   "source": [
    "plt.figure(figsize=(12,8))\n",
    "sns.distplot(data_concat[data_concat['LoanOnCard'] == 0]['MonthlyAverageSpend'],kde=True, color='b', label='LoanOnCard=0')\n",
    "sns.distplot(data_concat[data_concat['LoanOnCard'] == 1]['MonthlyAverageSpend'],kde=True, color='r',label='LoanOnCard=1')\n",
    "plt.legend()\n",
    "plt.title(\"MonthlyAverageSpend Distribution\")"
   ]
  },
  {
   "cell_type": "code",
   "execution_count": null,
   "id": "c1245958",
   "metadata": {
    "colab": {
     "base_uri": "https://localhost:8080/",
     "height": 237
    },
    "id": "c1245958",
    "outputId": "043908b8-52f6-4f13-f0a9-6515d80f4554"
   },
   "outputs": [],
   "source": [
    "MonthlyAverageSpend_cut = pd.cut(data_concat['MonthlyAverageSpend'],bins=[0,2,4,6,8,10])\n",
    "pd.crosstab(MonthlyAverageSpend_cut,data_concat['LoanOnCard']).apply(lambda r: r/r.sum()*100, axis=1)"
   ]
  },
  {
   "cell_type": "markdown",
   "id": "db0937cb",
   "metadata": {
    "id": "db0937cb"
   },
   "source": [
    "**Observation : One can see from the distribution plot that Customers with more average spending on credit cards per month show more tendancy to buy the LoanOnCards. Thus, MonthlyAverageSpend shows good correlation with Loan on Card. Customers with avg. credit card spending in the range of 4 to 6 units show around 47% conversion rate.**"
   ]
  },
  {
   "cell_type": "markdown",
   "id": "abf903a0",
   "metadata": {
    "id": "abf903a0"
   },
   "source": [
    "<u>6. Analyzing the Level attribute</u>"
   ]
  },
  {
   "cell_type": "code",
   "execution_count": null,
   "id": "3j5mUIUwneY3",
   "metadata": {
    "colab": {
     "base_uri": "https://localhost:8080/",
     "height": 466
    },
    "id": "3j5mUIUwneY3",
    "outputId": "068e5413-0093-4a8a-bc05-608e603dbe28"
   },
   "outputs": [],
   "source": [
    "sns.countplot(data = data_concat, x='Level', hue='LoanOnCard')"
   ]
  },
  {
   "cell_type": "code",
   "execution_count": null,
   "id": "d31f30dd",
   "metadata": {
    "colab": {
     "base_uri": "https://localhost:8080/",
     "height": 174
    },
    "id": "d31f30dd",
    "outputId": "7d014ab3-17f1-4e59-be2d-e08e462b1cdf"
   },
   "outputs": [],
   "source": [
    "pd.crosstab(data_concat['Level'],data_concat['LoanOnCard']).apply(lambda r: r/r.sum()*100, axis=1)"
   ]
  },
  {
   "cell_type": "markdown",
   "id": "a520bddc",
   "metadata": {
    "id": "a520bddc"
   },
   "source": [
    "**Observation : Customers with Levels 2 and 3 show a good conversion rate of about 13% and 13.7%, respectively.**"
   ]
  },
  {
   "cell_type": "markdown",
   "id": "f57cce30",
   "metadata": {
    "id": "f57cce30"
   },
   "source": [
    "<u>7. Analyzing the Mortgage attribute</u>"
   ]
  },
  {
   "cell_type": "code",
   "execution_count": null,
   "id": "b4986752",
   "metadata": {
    "colab": {
     "base_uri": "https://localhost:8080/",
     "height": 735
    },
    "id": "b4986752",
    "outputId": "a2a85fd4-2f2c-4663-8d2a-1ccd6ed3610c"
   },
   "outputs": [],
   "source": [
    "plt.figure(figsize=(8,8))\n",
    "sns.distplot(data_concat[data_concat['LoanOnCard'] == 0]['Mortgage'],kde=True, color='b', label='LoanOnCard=0')\n",
    "sns.distplot(data_concat[data_concat['LoanOnCard'] == 1]['Mortgage'],kde=True, color='r',label='LoanOnCard=1')\n",
    "plt.legend()\n",
    "plt.title(\"Mortgage Distribution\")"
   ]
  },
  {
   "cell_type": "code",
   "execution_count": null,
   "id": "707ffbf4",
   "metadata": {
    "colab": {
     "base_uri": "https://localhost:8080/",
     "height": 269
    },
    "id": "707ffbf4",
    "outputId": "5c6db547-9ee6-44ba-ea00-0ff15f846a4d"
   },
   "outputs": [],
   "source": [
    "mort_cut = pd.cut(data_concat['Mortgage'],bins=[0,100,200,300,400,500,600])\n",
    "pd.crosstab(mort_cut,data_concat['LoanOnCard']).apply(lambda r: r/r.sum()*100, axis=1)"
   ]
  },
  {
   "cell_type": "markdown",
   "id": "ba1776b6",
   "metadata": {
    "id": "ba1776b6"
   },
   "source": [
    "**Observations :**\n",
    "\n",
    "**1. Customers having house Mortgage value in the ranges (300 to 400), (400 to 500) and (500 to 600) show good tendency to buy the LoanOnCards.**\n",
    "\n",
    "**2. HighestSpend, MonthlyAverageSpend, Mortgage histograms are not normally distributed**"
   ]
  },
  {
   "cell_type": "markdown",
   "id": "88595b0f",
   "metadata": {
    "id": "88595b0f"
   },
   "source": [
    "<u>8. Analyzing the binary attributes Security, FixedDepositAccount, InternetBanking and CreditCard</u>\n",
    "\n",
    "Since they are nominal variables we will use count plot and box plots for analysis"
   ]
  },
  {
   "cell_type": "code",
   "execution_count": null,
   "id": "f549f399",
   "metadata": {
    "colab": {
     "base_uri": "https://localhost:8080/",
     "height": 1000
    },
    "id": "f549f399",
    "outputId": "bbd04a96-4954-4d90-bdb8-686d407976dd"
   },
   "outputs": [],
   "source": [
    "plt.figure(figsize=(12,12))\n",
    "plt.subplot(2,2,1)\n",
    "sns.countplot(data = data_concat, x='Security', hue='LoanOnCard')\n",
    "plt.subplot(2,2,2)\n",
    "sns.countplot(data = data_concat, x='FixedDepositAccount', hue='LoanOnCard')\n",
    "plt.subplot(2,2,3)\n",
    "sns.countplot(data = data_concat, x='InternetBanking', hue='LoanOnCard')\n",
    "plt.subplot(2,2,4)\n",
    "sns.countplot(data = data_concat, x='CreditCard', hue='LoanOnCard')\n",
    "plt.suptitle('Distribution of binary attributes Security, FixedDepositAccount, InternetBanking and CreditCard',x=0.5,y=0.90)"
   ]
  },
  {
   "cell_type": "code",
   "execution_count": null,
   "id": "73f775df",
   "metadata": {
    "colab": {
     "base_uri": "https://localhost:8080/",
     "height": 143
    },
    "id": "73f775df",
    "outputId": "4bec03fd-e273-4feb-ae51-375c409855da"
   },
   "outputs": [],
   "source": [
    "pd.crosstab(data_concat['Security'],data_concat['LoanOnCard']).apply(lambda r: r/r.sum()*100, axis=1)"
   ]
  },
  {
   "cell_type": "markdown",
   "id": "f3d3a274",
   "metadata": {
    "id": "f3d3a274"
   },
   "source": [
    "**Observation : Customers with Security have slightly higher percentage of buying the LoanOnCard than the customers with no Security**"
   ]
  },
  {
   "cell_type": "code",
   "execution_count": null,
   "id": "96b2e0f2",
   "metadata": {
    "colab": {
     "base_uri": "https://localhost:8080/",
     "height": 143
    },
    "id": "96b2e0f2",
    "outputId": "bf9e1127-c218-4a30-cbc7-ee6b32d50b1a"
   },
   "outputs": [],
   "source": [
    "pd.crosstab(data_concat['FixedDepositAccount'],data_concat['LoanOnCard']).apply(lambda r: r/r.sum()*100, axis=1)"
   ]
  },
  {
   "cell_type": "markdown",
   "id": "709466e5",
   "metadata": {
    "id": "709466e5"
   },
   "source": [
    "**Observation : Customers with FixedDepositAccount have very high percentage (46.4%) of buying the LoanOnCard than the customers with no FixedDepositAccount (7.2%)**"
   ]
  },
  {
   "cell_type": "code",
   "execution_count": null,
   "id": "e66115e5",
   "metadata": {
    "colab": {
     "base_uri": "https://localhost:8080/",
     "height": 143
    },
    "id": "e66115e5",
    "outputId": "77f02498-4a13-4d5f-bf6c-dadfcc67c29e"
   },
   "outputs": [],
   "source": [
    "pd.crosstab(data_concat['InternetBanking'],data_concat['LoanOnCard']).apply(lambda r: r/r.sum()*100, axis=1)"
   ]
  },
  {
   "cell_type": "markdown",
   "id": "0453849a",
   "metadata": {
    "id": "0453849a"
   },
   "source": [
    "**Observation : InternetBanking has no effect on buying the LoanOnCard as for both kind of customers, who took or didn' take InternetBanking, the percentage of customers who bought LoanonCard  is same, around 9.5%.**"
   ]
  },
  {
   "cell_type": "code",
   "execution_count": null,
   "id": "02ad2054",
   "metadata": {
    "colab": {
     "base_uri": "https://localhost:8080/",
     "height": 143
    },
    "id": "02ad2054",
    "outputId": "30f35a64-628e-45af-c07e-93c3d5d1dc97"
   },
   "outputs": [],
   "source": [
    "pd.crosstab(data_concat['CreditCard'],data_concat['LoanOnCard']).apply(lambda r: r/r.sum()*100, axis=1)"
   ]
  },
  {
   "cell_type": "markdown",
   "id": "482a038a",
   "metadata": {
    "id": "482a038a"
   },
   "source": [
    "**Observation : Similar to InternetBanking attribute, customer using a credit card has no effect on buying the LoanOnCard.**"
   ]
  },
  {
   "cell_type": "code",
   "execution_count": null,
   "id": "27199bd0",
   "metadata": {
    "colab": {
     "base_uri": "https://localhost:8080/",
     "height": 972
    },
    "id": "27199bd0",
    "outputId": "7fd98189-327d-48e8-c26f-d6aa7166396f"
   },
   "outputs": [],
   "source": [
    "g=sns.FacetGrid(data=data_concat,row='Level',col='HiddenScore',hue='LoanOnCard').map(plt.hist,'HighestSpend').add_legend()\n",
    "g.fig.suptitle('Distribution of Highest Spend for different levels and hiddenscores', x= 0.5, y= 1.05)"
   ]
  },
  {
   "cell_type": "markdown",
   "id": "b2875bc6",
   "metadata": {
    "id": "b2875bc6"
   },
   "source": [
    "**Observation : Irrespective of their HighestSpend, Level 1 customer with 1 or 2 HiddenScore generally do not opt for LoanOnCard.**"
   ]
  },
  {
   "cell_type": "code",
   "execution_count": null,
   "id": "1fe5aa10",
   "metadata": {
    "colab": {
     "base_uri": "https://localhost:8080/",
     "height": 489
    },
    "id": "1fe5aa10",
    "outputId": "c5291811-7194-41fc-c438-5b7d8836328e"
   },
   "outputs": [],
   "source": [
    "sns.boxplot(x='Level',y='HighestSpend',hue='LoanOnCard',data=data_concat).set(title='Box plot of Highest Spend for each level')"
   ]
  },
  {
   "cell_type": "markdown",
   "id": "07310228",
   "metadata": {
    "id": "07310228"
   },
   "source": [
    "**Observation : In each Level category, one can see that customers with higher HighestSpend tend to buy LoanOnCard.**"
   ]
  },
  {
   "cell_type": "code",
   "execution_count": null,
   "id": "b9ea2acd",
   "metadata": {
    "colab": {
     "base_uri": "https://localhost:8080/",
     "height": 489
    },
    "id": "b9ea2acd",
    "outputId": "62b391b8-0c9d-4184-8dc5-1c61851cb3cb"
   },
   "outputs": [],
   "source": [
    "sns.boxplot(x='HiddenScore',y='HighestSpend',hue='LoanOnCard',data=data_concat).set(title ='Box plot of Highest Spend for each HiddenScore')"
   ]
  },
  {
   "cell_type": "markdown",
   "id": "16bac25b",
   "metadata": {
    "id": "16bac25b"
   },
   "source": [
    "**Observation : For customers with HiddenScore of 1,2,3 or 4, higher HighestSpend is an important factor to buy LoanOnCard.**"
   ]
  },
  {
   "cell_type": "code",
   "execution_count": null,
   "id": "cc3dba52",
   "metadata": {
    "colab": {
     "base_uri": "https://localhost:8080/",
     "height": 1000
    },
    "id": "cc3dba52",
    "outputId": "fa091932-c20e-4487-a1ff-4b34cbae40de"
   },
   "outputs": [],
   "source": [
    "# pairplot of numerical attributes\n",
    "sns.pairplot(data_concat[['Age','CustomerSince','HighestSpend','MonthlyAverageSpend', 'Mortgage', 'LoanOnCard']],hue='LoanOnCard',diag_kind='hist')"
   ]
  },
  {
   "cell_type": "markdown",
   "id": "768bb0ca",
   "metadata": {
    "id": "768bb0ca"
   },
   "source": [
    "**Observations :**\n",
    "\n",
    "**1. Age has a positive linear relationship with CustomerSince.**\n",
    "\n",
    "**2. No other correlation is observed in other numerical attributes.**"
   ]
  }
 ],
 "metadata": {
  "colab": {
   "collapsed_sections": [
    "03ca0e68",
    "7e861e2f",
    "f09f031f",
    "3c1456ac",
    "-JVoR5A3osxg",
    "ff9567b3",
    "08579b9f",
    "6813676d",
    "dRtIvyQTogQC"
   ],
   "provenance": []
  },
  "kernelspec": {
   "display_name": "Python 3 (ipykernel)",
   "language": "python",
   "name": "python3"
  },
  "language_info": {
   "codemirror_mode": {
    "name": "ipython",
    "version": 3
   },
   "file_extension": ".py",
   "mimetype": "text/x-python",
   "name": "python",
   "nbconvert_exporter": "python",
   "pygments_lexer": "ipython3",
   "version": "3.13.2"
  }
 },
 "nbformat": 4,
 "nbformat_minor": 5
}
