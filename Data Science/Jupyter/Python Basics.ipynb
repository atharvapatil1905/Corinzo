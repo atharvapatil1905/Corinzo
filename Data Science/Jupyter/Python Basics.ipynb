{
 "cells": [
  {
   "cell_type": "markdown",
   "id": "0566f4a0",
   "metadata": {},
   "source": [
    "# 2. Python basics"
   ]
  },
  {
   "cell_type": "markdown",
   "id": "cf206d29",
   "metadata": {},
   "source": [
    "## 2.1 Variables and Arithmetic Operations"
   ]
  },
  {
   "cell_type": "code",
   "execution_count": 1,
   "id": "2e6ad8ec",
   "metadata": {},
   "outputs": [
    {
     "name": "stdout",
     "output_type": "stream",
     "text": [
      "Sum: 8\n",
      "Difference: 2\n",
      "Product: 15\n",
      "Quotient: 1.6666666666666667\n",
      "Power: 125\n"
     ]
    }
   ],
   "source": [
    "x = 5\n",
    "y = 3\n",
    "print(\"Sum:\", x + y)\n",
    "print(\"Difference:\", x - y)\n",
    "print(\"Product:\", x * y)\n",
    "print(\"Quotient:\", x / y)\n",
    "print('Power:', x**y)"
   ]
  },
  {
   "cell_type": "code",
   "execution_count": null,
   "id": "1f5a67f1",
   "metadata": {},
   "outputs": [
    {
     "name": "stdout",
     "output_type": "stream",
     "text": [
      "Hello, John\n",
      "Length of name: 4\n",
      "Uppercase: JOHN\n",
      "Lowercase: john\n"
     ]
    }
   ],
   "source": [
    "name = \"John\"\n",
    "print(\"Hello,\", name)\n",
    "print(\"Length of name:\", len(name))\n",
    "print(\"Uppercase:\", name.upper())\n",
    "print(\"Lowercase:\", name.lower())\n"
   ]
  },
  {
   "cell_type": "code",
   "execution_count": 4,
   "id": "3c40e41b",
   "metadata": {},
   "outputs": [
    {
     "data": {
      "text/plain": [
       "'John'"
      ]
     },
     "execution_count": 4,
     "metadata": {},
     "output_type": "execute_result"
    }
   ],
   "source": [
    "name[0:4]\n"
   ]
  },
  {
   "cell_type": "markdown",
   "id": "e189fa19",
   "metadata": {},
   "source": [
    "# 3 Data types"
   ]
  },
  {
   "cell_type": "code",
   "execution_count": 5,
   "id": "15437069",
   "metadata": {},
   "outputs": [],
   "source": [
    "list1 = [\"dan\", 2, 3, 4, \"python\", 2.7]\n"
   ]
  },
  {
   "cell_type": "code",
   "execution_count": 6,
   "id": "f9d5582d",
   "metadata": {},
   "outputs": [
    {
     "data": {
      "text/plain": [
       "[2, 3, 4]"
      ]
     },
     "execution_count": 6,
     "metadata": {},
     "output_type": "execute_result"
    }
   ],
   "source": [
    "list1[1:4]\n"
   ]
  },
  {
   "cell_type": "code",
   "execution_count": 7,
   "id": "d544e2bd",
   "metadata": {},
   "outputs": [
    {
     "data": {
      "text/plain": [
       "['dan', 2, 3, 4]"
      ]
     },
     "execution_count": 7,
     "metadata": {},
     "output_type": "execute_result"
    }
   ],
   "source": [
    "list1[0:4]\n"
   ]
  },
  {
   "cell_type": "code",
   "execution_count": 8,
   "id": "8c2723cd",
   "metadata": {},
   "outputs": [
    {
     "data": {
      "text/plain": [
       "['pop', 2, 3, 4, 'python', 2.7]"
      ]
     },
     "execution_count": 8,
     "metadata": {},
     "output_type": "execute_result"
    }
   ],
   "source": [
    "list1[0] = \"pop\"\n",
    "list1\n"
   ]
  },
  {
   "cell_type": "code",
   "execution_count": 9,
   "id": "1a6e8c99",
   "metadata": {},
   "outputs": [],
   "source": [
    "# Integers and floats\n",
    "num_int = 10\n",
    "num_float = 3.14\n",
    "\n",
    "# Strings\n",
    "str1 = \"Hello\"\n",
    "str2 = \"World\"\n",
    "\n",
    "# Lists\n",
    "numbers = [1, 2, 3, 4, 5]\n",
    "\n",
    "# Tuples\n",
    "my_tuple = (1, 2, 3)\n",
    "\n",
    "# Dictionaries (key-value pair)\n",
    "my_dict = {\"name\": \"John\", \"age\": 30, \"city\": \"New York\", \"major\": \"Computer Science\"}\n",
    "\n",
    "# Boolean\n",
    "is_true = True\n",
    "is_false = False\n"
   ]
  },
  {
   "cell_type": "markdown",
   "id": "f62aeb71",
   "metadata": {},
   "source": [
    "## 3.1. Lists"
   ]
  },
  {
   "cell_type": "code",
   "execution_count": 10,
   "id": "efd3e219",
   "metadata": {},
   "outputs": [
    {
     "name": "stdout",
     "output_type": "stream",
     "text": [
      "List: [10, 20, 30, 40, 50]\n",
      "Length of list: 5\n",
      "First element: 10\n",
      "Last element: 50\n",
      "First element: 10\n",
      "Second element: 20\n",
      "Last element: 50\n",
      "Second last element: 40\n",
      "Sliced list: [20, 30, 40]\n",
      "Reversed list: [50, 40, 30, 20, 10]\n",
      "Length of list: 5\n",
      "Appended list: [60, 50, 25, 20, 10]\n",
      "Inserted list: [60, 50, 25, 20, 10]\n",
      "After removal: [60, 50, 25, 20, 10]\n",
      "Popped element: 40\n",
      "Count of 20: 1\n",
      "Sorted list: [60, 50, 25, 20, 10]\n",
      "Reversed list: [60, 50, 25, 20, 10]\n"
     ]
    }
   ],
   "source": [
    "# Indexing and Other Functions with Lists\n",
    "\n",
    "# Lists are versatile data structures in Python that allow us to store collections of items.\n",
    "\n",
    "# Example list\n",
    "my_list = [10, 20, 30, 40, 50]\n",
    "print(\"List:\", my_list)\n",
    "print(\"Length of list:\", len(my_list))\n",
    "print(\"First element:\", my_list[0])\n",
    "print(\"Last element:\", my_list[-1])\n",
    "\n",
    "# Indexing\n",
    "# Accessing elements in a list using index values\n",
    "first_element = my_list[0]  # Index 0 corresponds to the first element\n",
    "second_element = my_list[1]  # Index 1 corresponds to the second element\n",
    "last_element = my_list[-1]  # Negative indexing to access the last element\n",
    "second_last_element = my_list[-2]  # Negative indexing to access the second last element\n",
    "\n",
    "# Slicing\n",
    "# Extracting a subsequence of elements from a list\n",
    "sliced_list = my_list[1:4]  # Elements from index 1 to index 3 (exclusive)\n",
    "reversed_list = my_list[::-1]  # Reversing the list\n",
    "\n",
    "# List Functions\n",
    "\n",
    "# Length of a list\n",
    "length_of_list = len(my_list)\n",
    "\n",
    "# Append\n",
    "# Adding an element to the end of the list\n",
    "my_list.append(60)\n",
    "\n",
    "# Insert\n",
    "# Inserting an element at a specified index position\n",
    "my_list.insert(2, 25)  # Inserting 25 at index 2\n",
    "\n",
    "# Remove\n",
    "# Removing the first occurrence of a specified value from the list\n",
    "my_list.remove(30)\n",
    "\n",
    "# Pop\n",
    "# Removing and returning the element at a specified index\n",
    "popped_element = my_list.pop(3)  # Removing element at index 3\n",
    "\n",
    "# Count\n",
    "# Counting the number of occurrences of a specified element in the list\n",
    "count_20 = my_list.count(20)\n",
    "\n",
    "# Sorting\n",
    "# Sorting the elements of the list in ascending order\n",
    "my_list.sort()\n",
    "\n",
    "# Reverse\n",
    "# Reversing the order of elements in the list\n",
    "my_list.reverse()\n",
    "\n",
    "# Printing the results\n",
    "print(\"First element:\", first_element)\n",
    "print(\"Second element:\", second_element)\n",
    "print(\"Last element:\", last_element)\n",
    "print(\"Second last element:\", second_last_element)\n",
    "print(\"Sliced list:\", sliced_list)\n",
    "print(\"Reversed list:\", reversed_list)\n",
    "print(\"Length of list:\", length_of_list)\n",
    "print(\"Appended list:\", my_list)\n",
    "print(\"Inserted list:\", my_list)\n",
    "print(\"After removal:\", my_list)\n",
    "print(\"Popped element:\", popped_element)\n",
    "print(\"Count of 20:\", count_20)\n",
    "print(\"Sorted list:\", my_list)\n",
    "print(\"Reversed list:\", my_list)\n"
   ]
  },
  {
   "cell_type": "markdown",
   "id": "08b7733c",
   "metadata": {},
   "source": [
    "## 3.2 Dictionary"
   ]
  },
  {
   "cell_type": "code",
   "execution_count": 11,
   "id": "5b25d600",
   "metadata": {},
   "outputs": [
    {
     "data": {
      "text/plain": [
       "dict_values(['John', 30, 'New York', 'Computer Science'])"
      ]
     },
     "execution_count": 11,
     "metadata": {},
     "output_type": "execute_result"
    }
   ],
   "source": [
    "my_dict.values()\n"
   ]
  },
  {
   "cell_type": "code",
   "execution_count": 12,
   "id": "55f28843",
   "metadata": {},
   "outputs": [
    {
     "name": "stdout",
     "output_type": "stream",
     "text": [
      "Dictionary: {'name': 'John', 'age': 30, 'city': 'New York', 'major': 'Computer Science'}\n",
      "Name: John\n",
      "Age: 30\n",
      "Is 'name' present? True\n"
     ]
    }
   ],
   "source": [
    "# Dictionaries are another essential data type in Python. They allow us to store key-value pairs.\n",
    "\n",
    "# Example dictionary\n",
    "my_dict = {\"name\": \"John\", \"age\": 30, \"city\": \"New York\", \"major\": \"Computer Science\"}\n",
    "print(\"Dictionary:\", my_dict)\n",
    "print(\"Name:\", my_dict[\"name\"])  # Accessing value associated with the key \"name\"\n",
    "print(\"Age:\", my_dict[\"age\"])  # Accessing value associated with the key \"age\"\n",
    "\n",
    "# Adding a New Key-Value Pair\n",
    "# New key-value pairs can be added to a dictionary using assignment.\n",
    "my_dict[\"occupation\"] = \"Engineer\"\n",
    "\n",
    "# Removing a Key-Value Pair\n",
    "# Key-value pairs can be removed from a dictionary using the del keyword.\n",
    "del my_dict[\"city\"]\n",
    "\n",
    "# Checking if a Key Exists\n",
    "# We can check if a key exists in a dictionary using the 'in' keyword.\n",
    "is_name_present = (\n",
    "    \"name\" in my_dict\n",
    ")  # Returns True if \"name\" is present in the dictionary keys\n",
    "\n",
    "# Printing the Results\n",
    "# print(\"Updated Dictionary:\", my_dict)\n",
    "print(\"Is 'name' present?\", is_name_present)\n"
   ]
  },
  {
   "cell_type": "markdown",
   "id": "0f42bbf6",
   "metadata": {},
   "source": [
    "# 4. Conditional statements, Loops and functions"
   ]
  },
  {
   "cell_type": "code",
   "execution_count": 13,
   "id": "c5b7d56a",
   "metadata": {},
   "outputs": [
    {
     "name": "stdout",
     "output_type": "stream",
     "text": [
      "Good morning, John!\n"
     ]
    }
   ],
   "source": [
    "# Example 4: Function with Conditional Statement\n",
    "# Functions can contain conditional statements to perform different actions based on conditions.\n",
    "# Here's an example of a function that greets a person differently based on the time of day.\n",
    "def greet_time(name, hour):\n",
    "    if hour < 12:\n",
    "        return \"Good morning, \" + name + \"!\"\n",
    "    elif hour < 18:\n",
    "        return \"Good afternoon, \" + name + \"!\"\n",
    "    else:\n",
    "        return \"Good evening, \" + name + \"!\"\n",
    "\n",
    "\n",
    "print(greet_time(\"John\", 9))  # Output: \"Good morning, John!\"\n"
   ]
  },
  {
   "cell_type": "code",
   "execution_count": 14,
   "id": "0a4df55a",
   "metadata": {},
   "outputs": [
    {
     "name": "stdout",
     "output_type": "stream",
     "text": [
      "Classification of -3: Negative\n"
     ]
    }
   ],
   "source": [
    "def classify_number(num):\n",
    "    if num > 0:\n",
    "        return \"Positive\"\n",
    "    elif num < 0:\n",
    "        return \"Negative\"\n",
    "    else:\n",
    "        return \"Zero\"\n",
    "\n",
    "\n",
    "print(\"Classification of -3:\", classify_number(-3))  # Output: Negative\n"
   ]
  },
  {
   "cell_type": "code",
   "execution_count": 15,
   "id": "95d0bb9d",
   "metadata": {},
   "outputs": [
    {
     "name": "stdout",
     "output_type": "stream",
     "text": [
      "1\n",
      "2\n",
      "3\n",
      "4\n",
      "5\n",
      "1\n",
      "2\n",
      "3\n",
      "4\n",
      "5\n",
      "Classification of -3: Negative\n",
      "Good morning, John!\n"
     ]
    }
   ],
   "source": [
    "# For Loops, While Loops, Conditional Statements, and Functions\n",
    "\n",
    "# These are fundamental concepts in Python that allow us to perform repetitive tasks, make decisions, and encapsulate reusable blocks of code.\n",
    "\n",
    "# Example 1: For Loop\n",
    "# For loops are used to iterate over a sequence (e.g., lists, tuples, strings).\n",
    "# Here's an example of iterating over a list and printing each element.\n",
    "my_list = [1, 2, 3, 4, 5]\n",
    "for num in my_list:\n",
    "    print(num)\n",
    "\n",
    "# Example 2: While Loop\n",
    "# While loops are used to execute a block of code repeatedly as long as a condition is true.\n",
    "# Here's an example of using a while loop to print numbers from 1 to 5.\n",
    "count = 1\n",
    "while count <= 5:\n",
    "    print(count)\n",
    "    count += 1\n",
    "\n",
    "\n",
    "# Example 3: Conditional Statements (if, elif, else)\n",
    "# Conditional statements are used to make decisions based on conditions.\n",
    "# Here's an example of using conditional statements to determine if a number is positive, negative, or zero.\n",
    "def classify_number(num):\n",
    "    if num > 0:\n",
    "        return \"Positive\"\n",
    "    elif num < 0:\n",
    "        return \"Negative\"\n",
    "    else:\n",
    "        return \"Zero\"\n",
    "\n",
    "\n",
    "print(\"Classification of -3:\", classify_number(-3))  # Output: Negative\n",
    "\n",
    "\n",
    "# Example 4: Function with Conditional Statement\n",
    "# Functions can contain conditional statements to perform different actions based on conditions.\n",
    "# Here's an example of a function that greets a person differently based on the time of day.\n",
    "def greet_time(name, hour):\n",
    "    if hour < 12:\n",
    "        return \"Good morning, \" + name + \"!\"\n",
    "    elif hour < 18:\n",
    "        return \"Good afternoon, \" + name + \"!\"\n",
    "    else:\n",
    "        return \"Good evening, \" + name + \"!\"\n",
    "\n",
    "\n",
    "print(greet_time(\"John\", 9))  # Output: \"Good morning, John!\"\n"
   ]
  },
  {
   "cell_type": "code",
   "execution_count": 16,
   "id": "65d3bf66",
   "metadata": {},
   "outputs": [
    {
     "name": "stdout",
     "output_type": "stream",
     "text": [
      "Maximum of 5 and 7: 7\n"
     ]
    }
   ],
   "source": [
    "# Example 10: Function to Find Maximum Number\n",
    "def find_max(a, b):\n",
    "    if a > b:\n",
    "        return a\n",
    "    else:\n",
    "        return b\n",
    "\n",
    "\n",
    "print(\"Maximum of 5 and 7:\", find_max(5, 7))\n"
   ]
  },
  {
   "cell_type": "code",
   "execution_count": 18,
   "id": "edeb4f83",
   "metadata": {},
   "outputs": [
    {
     "name": "stdout",
     "output_type": "stream",
     "text": [
      "0\n",
      "1\n",
      "2\n",
      "3\n",
      "4\n",
      "0\n",
      "1\n",
      "2\n",
      "3\n",
      "4\n",
      "Square of 4: 16\n",
      "Maximum of 5 and 7: 7\n"
     ]
    }
   ],
   "source": [
    "# Section 3: Loops\n",
    "\n",
    "# Loops are used to execute a block of code repeatedly.\n",
    "\n",
    "# Example 7: For Loop\n",
    "for i in range(5):\n",
    "    print(i)\n",
    "\n",
    "# Example 8: While Loop\n",
    "count = 0\n",
    "while count < 5:\n",
    "    print(count)\n",
    "    count += 1\n",
    "\n",
    "# Section 4: Functions\n",
    "\n",
    "# Functions are blocks of reusable code that perform a specific task.\n",
    "\n",
    "\n",
    "# Example 9: Function to Calculate Square\n",
    "def square(num):\n",
    "    return num**2\n",
    "\n",
    "\n",
    "print(\"Square of 4:\", square(4))\n",
    "\n",
    "\n",
    "# Example 10: Function to Find Maximum Number\n",
    "def find_max(a, b):\n",
    "    if a > b:\n",
    "        return a\n",
    "    else:\n",
    "        return b\n",
    "\n",
    "\n",
    "print(\"Maximum of 5 and 7:\", find_max(5, 7))\n"
   ]
  }
 ],
 "metadata": {
  "kernelspec": {
   "display_name": "Python 3",
   "language": "python",
   "name": "python3"
  },
  "language_info": {
   "codemirror_mode": {
    "name": "ipython",
    "version": 3
   },
   "file_extension": ".py",
   "mimetype": "text/x-python",
   "name": "python",
   "nbconvert_exporter": "python",
   "pygments_lexer": "ipython3",
   "version": "3.13.2"
  }
 },
 "nbformat": 4,
 "nbformat_minor": 5
}
