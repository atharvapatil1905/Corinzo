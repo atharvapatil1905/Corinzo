{
 "cells": [
  {
   "cell_type": "code",
   "execution_count": 1,
   "id": "98cda906",
   "metadata": {},
   "outputs": [],
   "source": [
    "import pandas as pd\n",
    "import matplotlib.pyplot as plt\n",
    "import seaborn as sns\n",
    "import numpy as np\n",
    "from sklearn.preprocessing import LabelEncoder\n",
    "le_agency = LabelEncoder()\n",
    "le_type = LabelEncoder()\n",
    "le_country = LabelEncoder()\n",
    "le_state = LabelEncoder()"
   ]
  },
  {
   "cell_type": "markdown",
   "id": "2108c428",
   "metadata": {},
   "source": [
    "## Load Dataset"
   ]
  },
  {
   "cell_type": "code",
   "execution_count": 2,
   "id": "8105b16b",
   "metadata": {},
   "outputs": [],
   "source": [
    "file_path = r'C:\\Users\\Aakanksha\\OneDrive\\Desktop\\Project\\Vendor-Segmentation-Risk-Detection\\data\\raw\\vendor_data_raw_2021_2024.csv'\n",
    "df = pd.read_csv(file_path)"
   ]
  },
  {
   "cell_type": "markdown",
   "id": "89ee2238",
   "metadata": {},
   "source": [
    "## Preview the data"
   ]
  },
  {
   "cell_type": "code",
   "execution_count": 3,
   "id": "72e38c32",
   "metadata": {},
   "outputs": [
    {
     "name": "stdout",
     "output_type": "stream",
     "text": [
      "Data Preview:\n"
     ]
    },
    {
     "data": {
      "application/vnd.microsoft.datawrangler.viewer.v0+json": {
       "columns": [
        {
         "name": "index",
         "rawType": "int64",
         "type": "integer"
        },
        {
         "name": "Transaction_ID",
         "rawType": "object",
         "type": "string"
        },
        {
         "name": "Vendor_Name",
         "rawType": "object",
         "type": "string"
        },
        {
         "name": "Award_Amount",
         "rawType": "float64",
         "type": "float"
        },
        {
         "name": "Award_Agency",
         "rawType": "object",
         "type": "string"
        },
        {
         "name": "Award_Date",
         "rawType": "object",
         "type": "string"
        },
        {
         "name": "Award_Type",
         "rawType": "object",
         "type": "string"
        },
        {
         "name": "Performance_Country",
         "rawType": "object",
         "type": "string"
        },
        {
         "name": "Performance_State",
         "rawType": "object",
         "type": "string"
        }
       ],
       "conversionMethod": "pd.DataFrame",
       "ref": "bdf9d41d-d858-4206-ba31-99684c37f442",
       "rows": [
        [
         "0",
         "TRX00001",
         "Little, Chandler and Johnson",
         "1384004.16",
         "Department of Agriculture",
         "2022-09-05",
         "Indefinite Delivery Contract",
         "USA",
         "GA"
        ],
        [
         "1",
         "TRX00002",
         "Bryant, Castillo and Weaver",
         "2800693.04",
         "Department of Energy",
         "2022-08-03",
         "Time-and-Materials Contract",
         "USA",
         "GA"
        ],
        [
         "2",
         "TRX00003",
         "Burns, Nichols and Hernandez",
         "4332198.07",
         "NASA",
         "2021-01-27",
         "Fixed-Price Contract",
         "USA",
         "PA"
        ],
        [
         "3",
         "TRX00004",
         "Choi, Gilmore and Hanson",
         "3363947.05",
         "Department of Education",
         "2021-11-07",
         "Indefinite Delivery Contract",
         "MEX",
         "TX"
        ],
        [
         "4",
         "TRX00005",
         "Ferrell Group",
         "640640.51",
         "NASA",
         "2024-02-02",
         "Indefinite Delivery Contract",
         "USA",
         "NY"
        ]
       ],
       "shape": {
        "columns": 8,
        "rows": 5
       }
      },
      "text/html": [
       "<div>\n",
       "<style scoped>\n",
       "    .dataframe tbody tr th:only-of-type {\n",
       "        vertical-align: middle;\n",
       "    }\n",
       "\n",
       "    .dataframe tbody tr th {\n",
       "        vertical-align: top;\n",
       "    }\n",
       "\n",
       "    .dataframe thead th {\n",
       "        text-align: right;\n",
       "    }\n",
       "</style>\n",
       "<table border=\"1\" class=\"dataframe\">\n",
       "  <thead>\n",
       "    <tr style=\"text-align: right;\">\n",
       "      <th></th>\n",
       "      <th>Transaction_ID</th>\n",
       "      <th>Vendor_Name</th>\n",
       "      <th>Award_Amount</th>\n",
       "      <th>Award_Agency</th>\n",
       "      <th>Award_Date</th>\n",
       "      <th>Award_Type</th>\n",
       "      <th>Performance_Country</th>\n",
       "      <th>Performance_State</th>\n",
       "    </tr>\n",
       "  </thead>\n",
       "  <tbody>\n",
       "    <tr>\n",
       "      <th>0</th>\n",
       "      <td>TRX00001</td>\n",
       "      <td>Little, Chandler and Johnson</td>\n",
       "      <td>1384004.16</td>\n",
       "      <td>Department of Agriculture</td>\n",
       "      <td>2022-09-05</td>\n",
       "      <td>Indefinite Delivery Contract</td>\n",
       "      <td>USA</td>\n",
       "      <td>GA</td>\n",
       "    </tr>\n",
       "    <tr>\n",
       "      <th>1</th>\n",
       "      <td>TRX00002</td>\n",
       "      <td>Bryant, Castillo and Weaver</td>\n",
       "      <td>2800693.04</td>\n",
       "      <td>Department of Energy</td>\n",
       "      <td>2022-08-03</td>\n",
       "      <td>Time-and-Materials Contract</td>\n",
       "      <td>USA</td>\n",
       "      <td>GA</td>\n",
       "    </tr>\n",
       "    <tr>\n",
       "      <th>2</th>\n",
       "      <td>TRX00003</td>\n",
       "      <td>Burns, Nichols and Hernandez</td>\n",
       "      <td>4332198.07</td>\n",
       "      <td>NASA</td>\n",
       "      <td>2021-01-27</td>\n",
       "      <td>Fixed-Price Contract</td>\n",
       "      <td>USA</td>\n",
       "      <td>PA</td>\n",
       "    </tr>\n",
       "    <tr>\n",
       "      <th>3</th>\n",
       "      <td>TRX00004</td>\n",
       "      <td>Choi, Gilmore and Hanson</td>\n",
       "      <td>3363947.05</td>\n",
       "      <td>Department of Education</td>\n",
       "      <td>2021-11-07</td>\n",
       "      <td>Indefinite Delivery Contract</td>\n",
       "      <td>MEX</td>\n",
       "      <td>TX</td>\n",
       "    </tr>\n",
       "    <tr>\n",
       "      <th>4</th>\n",
       "      <td>TRX00005</td>\n",
       "      <td>Ferrell Group</td>\n",
       "      <td>640640.51</td>\n",
       "      <td>NASA</td>\n",
       "      <td>2024-02-02</td>\n",
       "      <td>Indefinite Delivery Contract</td>\n",
       "      <td>USA</td>\n",
       "      <td>NY</td>\n",
       "    </tr>\n",
       "  </tbody>\n",
       "</table>\n",
       "</div>"
      ],
      "text/plain": [
       "  Transaction_ID                   Vendor_Name  Award_Amount  \\\n",
       "0       TRX00001  Little, Chandler and Johnson    1384004.16   \n",
       "1       TRX00002   Bryant, Castillo and Weaver    2800693.04   \n",
       "2       TRX00003  Burns, Nichols and Hernandez    4332198.07   \n",
       "3       TRX00004      Choi, Gilmore and Hanson    3363947.05   \n",
       "4       TRX00005                 Ferrell Group     640640.51   \n",
       "\n",
       "                Award_Agency  Award_Date                    Award_Type  \\\n",
       "0  Department of Agriculture  2022-09-05  Indefinite Delivery Contract   \n",
       "1       Department of Energy  2022-08-03   Time-and-Materials Contract   \n",
       "2                       NASA  2021-01-27          Fixed-Price Contract   \n",
       "3    Department of Education  2021-11-07  Indefinite Delivery Contract   \n",
       "4                       NASA  2024-02-02  Indefinite Delivery Contract   \n",
       "\n",
       "  Performance_Country Performance_State  \n",
       "0                 USA                GA  \n",
       "1                 USA                GA  \n",
       "2                 USA                PA  \n",
       "3                 MEX                TX  \n",
       "4                 USA                NY  "
      ]
     },
     "metadata": {},
     "output_type": "display_data"
    }
   ],
   "source": [
    "print(\"Data Preview:\")\n",
    "display(df.head())"
   ]
  },
  {
   "cell_type": "markdown",
   "id": "e6ec0e4e",
   "metadata": {},
   "source": [
    "## Dataset Info"
   ]
  },
  {
   "cell_type": "code",
   "execution_count": 4,
   "id": "0bbf8b70",
   "metadata": {},
   "outputs": [
    {
     "name": "stdout",
     "output_type": "stream",
     "text": [
      "<class 'pandas.core.frame.DataFrame'>\n",
      "RangeIndex: 15000 entries, 0 to 14999\n",
      "Data columns (total 8 columns):\n",
      " #   Column               Non-Null Count  Dtype  \n",
      "---  ------               --------------  -----  \n",
      " 0   Transaction_ID       15000 non-null  object \n",
      " 1   Vendor_Name          15000 non-null  object \n",
      " 2   Award_Amount         15000 non-null  float64\n",
      " 3   Award_Agency         15000 non-null  object \n",
      " 4   Award_Date           15000 non-null  object \n",
      " 5   Award_Type           15000 non-null  object \n",
      " 6   Performance_Country  15000 non-null  object \n",
      " 7   Performance_State    15000 non-null  object \n",
      "dtypes: float64(1), object(7)\n",
      "memory usage: 937.6+ KB\n"
     ]
    }
   ],
   "source": [
    "df.info()"
   ]
  },
  {
   "cell_type": "markdown",
   "id": "d0df014f",
   "metadata": {},
   "source": [
    "## Missing Values"
   ]
  },
  {
   "cell_type": "code",
   "execution_count": 5,
   "id": "28584618",
   "metadata": {},
   "outputs": [
    {
     "name": "stdout",
     "output_type": "stream",
     "text": [
      "\n",
      "Missing Values Check:\n",
      "Transaction_ID         0\n",
      "Vendor_Name            0\n",
      "Award_Amount           0\n",
      "Award_Agency           0\n",
      "Award_Date             0\n",
      "Award_Type             0\n",
      "Performance_Country    0\n",
      "Performance_State      0\n",
      "dtype: int64\n"
     ]
    }
   ],
   "source": [
    "print(\"\\nMissing Values Check:\")\n",
    "print(df.isnull().sum())"
   ]
  },
  {
   "cell_type": "markdown",
   "id": "bf804d40",
   "metadata": {},
   "source": [
    "## Basic Statistics"
   ]
  },
  {
   "cell_type": "code",
   "execution_count": 6,
   "id": "ea496b8c",
   "metadata": {},
   "outputs": [
    {
     "name": "stdout",
     "output_type": "stream",
     "text": [
      "\n",
      "Descriptive Statistics:\n"
     ]
    },
    {
     "data": {
      "application/vnd.microsoft.datawrangler.viewer.v0+json": {
       "columns": [
        {
         "name": "index",
         "rawType": "object",
         "type": "string"
        },
        {
         "name": "Award_Amount",
         "rawType": "float64",
         "type": "float"
        }
       ],
       "conversionMethod": "pd.DataFrame",
       "ref": "a64cbd88-35fc-456e-a8d7-2902a9f40727",
       "rows": [
        [
         "count",
         "15000.0"
        ],
        [
         "mean",
         "2499050.3125033337"
        ],
        [
         "std",
         "1438892.4834030063"
        ],
        [
         "min",
         "5481.74"
        ],
        [
         "25%",
         "1254286.8975"
        ],
        [
         "50%",
         "2500420.9850000003"
        ],
        [
         "75%",
         "3748676.0275000003"
        ],
        [
         "max",
         "4999899.99"
        ]
       ],
       "shape": {
        "columns": 1,
        "rows": 8
       }
      },
      "text/html": [
       "<div>\n",
       "<style scoped>\n",
       "    .dataframe tbody tr th:only-of-type {\n",
       "        vertical-align: middle;\n",
       "    }\n",
       "\n",
       "    .dataframe tbody tr th {\n",
       "        vertical-align: top;\n",
       "    }\n",
       "\n",
       "    .dataframe thead th {\n",
       "        text-align: right;\n",
       "    }\n",
       "</style>\n",
       "<table border=\"1\" class=\"dataframe\">\n",
       "  <thead>\n",
       "    <tr style=\"text-align: right;\">\n",
       "      <th></th>\n",
       "      <th>Award_Amount</th>\n",
       "    </tr>\n",
       "  </thead>\n",
       "  <tbody>\n",
       "    <tr>\n",
       "      <th>count</th>\n",
       "      <td>1.500000e+04</td>\n",
       "    </tr>\n",
       "    <tr>\n",
       "      <th>mean</th>\n",
       "      <td>2.499050e+06</td>\n",
       "    </tr>\n",
       "    <tr>\n",
       "      <th>std</th>\n",
       "      <td>1.438892e+06</td>\n",
       "    </tr>\n",
       "    <tr>\n",
       "      <th>min</th>\n",
       "      <td>5.481740e+03</td>\n",
       "    </tr>\n",
       "    <tr>\n",
       "      <th>25%</th>\n",
       "      <td>1.254287e+06</td>\n",
       "    </tr>\n",
       "    <tr>\n",
       "      <th>50%</th>\n",
       "      <td>2.500421e+06</td>\n",
       "    </tr>\n",
       "    <tr>\n",
       "      <th>75%</th>\n",
       "      <td>3.748676e+06</td>\n",
       "    </tr>\n",
       "    <tr>\n",
       "      <th>max</th>\n",
       "      <td>4.999900e+06</td>\n",
       "    </tr>\n",
       "  </tbody>\n",
       "</table>\n",
       "</div>"
      ],
      "text/plain": [
       "       Award_Amount\n",
       "count  1.500000e+04\n",
       "mean   2.499050e+06\n",
       "std    1.438892e+06\n",
       "min    5.481740e+03\n",
       "25%    1.254287e+06\n",
       "50%    2.500421e+06\n",
       "75%    3.748676e+06\n",
       "max    4.999900e+06"
      ]
     },
     "execution_count": 6,
     "metadata": {},
     "output_type": "execute_result"
    }
   ],
   "source": [
    "print(\"\\nDescriptive Statistics:\")\n",
    "df.describe()"
   ]
  },
  {
   "cell_type": "markdown",
   "id": "11edffac",
   "metadata": {},
   "source": [
    "## Data Cleaning"
   ]
  },
  {
   "cell_type": "code",
   "execution_count": 7,
   "id": "46c8f88b",
   "metadata": {},
   "outputs": [],
   "source": [
    "df = df[df['Award_Amount'] > 0] \n",
    "#Remove rows with non-positive award amounts (bad data)"
   ]
  },
  {
   "cell_type": "markdown",
   "id": "7c3c7362",
   "metadata": {},
   "source": [
    "## Feature Engineering"
   ]
  },
  {
   "cell_type": "markdown",
   "id": "9b704735",
   "metadata": {},
   "source": [
    "## Award Year (Extarct Year from Award_Date)"
   ]
  },
  {
   "cell_type": "code",
   "execution_count": 8,
   "id": "f64a3ca5",
   "metadata": {},
   "outputs": [],
   "source": [
    "df[\"Award_Year\"] = pd.to_datetime(df[\"Award_Date\"]).dt.year"
   ]
  },
  {
   "cell_type": "markdown",
   "id": "f5d1d380",
   "metadata": {},
   "source": [
    "## Log of Award Amount (for scaling large numbers)"
   ]
  },
  {
   "cell_type": "code",
   "execution_count": 9,
   "id": "f6706dcc",
   "metadata": {},
   "outputs": [],
   "source": [
    "df[\"Log_Award_Amount\"] = np.log(df[\"Award_Amount\"] + 1)  \n",
    "# Adding 1 to avoid log(0)"
   ]
  },
  {
   "cell_type": "markdown",
   "id": "a0ee0b3a",
   "metadata": {},
   "source": [
    "## Encode Contract Category and Region (for ML)"
   ]
  },
  {
   "cell_type": "code",
   "execution_count": 10,
   "id": "b09a145c",
   "metadata": {},
   "outputs": [
    {
     "name": "stdout",
     "output_type": "stream",
     "text": [
      "['Transaction_ID', 'Vendor_Name', 'Award_Amount', 'Award_Agency', 'Award_Date', 'Award_Type', 'Performance_Country', 'Performance_State', 'Award_Year', 'Log_Award_Amount']\n"
     ]
    }
   ],
   "source": [
    "print(df.columns.tolist())"
   ]
  },
  {
   "cell_type": "code",
   "execution_count": 11,
   "id": "cfa9423e",
   "metadata": {},
   "outputs": [],
   "source": [
    "df['Award_Agency_Code'] = le_agency.fit_transform(df['Award_Agency'])\n",
    "df['Award_Type_Code'] = le_type.fit_transform(df['Award_Type'])\n",
    "df['Performance_Country_Code'] = le_country.fit_transform(df['Performance_Country'])\n",
    "df['Performance_State_Code'] = le_state.fit_transform(df['Performance_State'])\n",
    "# Converts categorical ('Text') data to numerical because ML doesn't understand Text data it only takes Numbers as the input"
   ]
  },
  {
   "cell_type": "markdown",
   "id": "8e0f4e5d",
   "metadata": {},
   "source": [
    "## Visualization: Award Amount Distribution"
   ]
  },
  {
   "cell_type": "code",
   "execution_count": 12,
   "id": "37b131de",
   "metadata": {},
   "outputs": [
    {
     "data": {
      "image/png": "[encoded data removed]",
      "text/plain": [
       "<Figure size 800x500 with 1 Axes>"
      ]
     },
     "metadata": {},
     "output_type": "display_data"
    }
   ],
   "source": [
    "plt.figure(figsize=(8,5))\n",
    "sns.histplot(df['Award_Amount'], bins=50, kde=True)\n",
    "plt.title(\"Distribution of Award Amount\")\n",
    "plt.xlabel(\"Award Amount ($)\")\n",
    "plt.ylabel(\"Frequency\")\n",
    "plt.show()\n"
   ]
  },
  {
   "cell_type": "markdown",
   "id": "59d1d133",
   "metadata": {},
   "source": [
    "## Save Processed Data"
   ]
  },
  {
   "cell_type": "code",
   "execution_count": 13,
   "id": "ee57e59e",
   "metadata": {},
   "outputs": [
    {
     "name": "stdout",
     "output_type": "stream",
     "text": [
      "\n",
      "✅ Processed file saved to ../data/processed/vendor_data_processed.csv\n"
     ]
    }
   ],
   "source": [
    "processed_path = '../data/processed/vendor_data_processed.csv'\n",
    "df.to_csv(processed_path, index=False)\n",
    "print(f\"\\n✅ Processed file saved to {processed_path}\")"
   ]
  },
  {
   "cell_type": "markdown",
   "id": "dec32e37",
   "metadata": {},
   "source": [
    "## Load and clean raw data using processing pipeline"
   ]
  },
  {
   "cell_type": "code",
   "execution_count": 17,
   "id": "b041a719",
   "metadata": {},
   "outputs": [
    {
     "data": {
      "application/vnd.microsoft.datawrangler.viewer.v0+json": {
       "columns": [
        {
         "name": "index",
         "rawType": "int64",
         "type": "integer"
        },
        {
         "name": "Transaction_ID",
         "rawType": "object",
         "type": "string"
        },
        {
         "name": "Vendor_Name",
         "rawType": "object",
         "type": "string"
        },
        {
         "name": "Award_Amount",
         "rawType": "float64",
         "type": "float"
        },
        {
         "name": "Award_Agency",
         "rawType": "object",
         "type": "string"
        },
        {
         "name": "Award_Date",
         "rawType": "object",
         "type": "string"
        },
        {
         "name": "Award_Type",
         "rawType": "object",
         "type": "string"
        },
        {
         "name": "Performance_Country",
         "rawType": "object",
         "type": "string"
        },
        {
         "name": "Performance_State",
         "rawType": "object",
         "type": "string"
        },
        {
         "name": "Log_Award_Amount",
         "rawType": "float64",
         "type": "float"
        },
        {
         "name": "Award_Agency_Code",
         "rawType": "int64",
         "type": "integer"
        },
        {
         "name": "Award_Type_Code",
         "rawType": "int64",
         "type": "integer"
        },
        {
         "name": "Performance_Country_Code",
         "rawType": "int64",
         "type": "integer"
        },
        {
         "name": "Performance_State_Code",
         "rawType": "int64",
         "type": "integer"
        }
       ],
       "conversionMethod": "pd.DataFrame",
       "ref": "d3d85106-6368-49a0-9961-f7c3e401e900",
       "rows": [
        [
         "0",
         "TRX00001",
         "Little, Chandler and Johnson",
         "1384004.16",
         "Department of Agriculture",
         "2022-09-05",
         "Indefinite Delivery Contract",
         "USA",
         "GA",
         "14.140492143476502",
         "0",
         "2",
         "2",
         "2"
        ],
        [
         "1",
         "TRX00002",
         "Bryant, Castillo and Weaver",
         "2800693.04",
         "Department of Energy",
         "2022-08-03",
         "Time-and-Materials Contract",
         "USA",
         "GA",
         "14.845377815858956",
         "3",
         "3",
         "2",
         "2"
        ],
        [
         "2",
         "TRX00003",
         "Burns, Nichols and Hernandez",
         "4332198.07",
         "NASA",
         "2021-01-27",
         "Fixed-Price Contract",
         "USA",
         "PA",
         "15.281585839417462",
         "6",
         "1",
         "2",
         "7"
        ],
        [
         "3",
         "TRX00004",
         "Choi, Gilmore and Hanson",
         "3363947.05",
         "Department of Education",
         "2021-11-07",
         "Indefinite Delivery Contract",
         "MEX",
         "TX",
         "15.028625857030644",
         "2",
         "2",
         "1",
         "8"
        ],
        [
         "4",
         "TRX00005",
         "Ferrell Group",
         "640640.51",
         "NASA",
         "2024-02-02",
         "Indefinite Delivery Contract",
         "USA",
         "NY",
         "13.370225312684143",
         "6",
         "2",
         "2",
         "5"
        ]
       ],
       "shape": {
        "columns": 13,
        "rows": 5
       }
      },
      "text/html": [
       "<div>\n",
       "<style scoped>\n",
       "    .dataframe tbody tr th:only-of-type {\n",
       "        vertical-align: middle;\n",
       "    }\n",
       "\n",
       "    .dataframe tbody tr th {\n",
       "        vertical-align: top;\n",
       "    }\n",
       "\n",
       "    .dataframe thead th {\n",
       "        text-align: right;\n",
       "    }\n",
       "</style>\n",
       "<table border=\"1\" class=\"dataframe\">\n",
       "  <thead>\n",
       "    <tr style=\"text-align: right;\">\n",
       "      <th></th>\n",
       "      <th>Transaction_ID</th>\n",
       "      <th>Vendor_Name</th>\n",
       "      <th>Award_Amount</th>\n",
       "      <th>Award_Agency</th>\n",
       "      <th>Award_Date</th>\n",
       "      <th>Award_Type</th>\n",
       "      <th>Performance_Country</th>\n",
       "      <th>Performance_State</th>\n",
       "      <th>Log_Award_Amount</th>\n",
       "      <th>Award_Agency_Code</th>\n",
       "      <th>Award_Type_Code</th>\n",
       "      <th>Performance_Country_Code</th>\n",
       "      <th>Performance_State_Code</th>\n",
       "    </tr>\n",
       "  </thead>\n",
       "  <tbody>\n",
       "    <tr>\n",
       "      <th>0</th>\n",
       "      <td>TRX00001</td>\n",
       "      <td>Little, Chandler and Johnson</td>\n",
       "      <td>1384004.16</td>\n",
       "      <td>Department of Agriculture</td>\n",
       "      <td>2022-09-05</td>\n",
       "      <td>Indefinite Delivery Contract</td>\n",
       "      <td>USA</td>\n",
       "      <td>GA</td>\n",
       "      <td>14.140492</td>\n",
       "      <td>0</td>\n",
       "      <td>2</td>\n",
       "      <td>2</td>\n",
       "      <td>2</td>\n",
       "    </tr>\n",
       "    <tr>\n",
       "      <th>1</th>\n",
       "      <td>TRX00002</td>\n",
       "      <td>Bryant, Castillo and Weaver</td>\n",
       "      <td>2800693.04</td>\n",
       "      <td>Department of Energy</td>\n",
       "      <td>2022-08-03</td>\n",
       "      <td>Time-and-Materials Contract</td>\n",
       "      <td>USA</td>\n",
       "      <td>GA</td>\n",
       "      <td>14.845378</td>\n",
       "      <td>3</td>\n",
       "      <td>3</td>\n",
       "      <td>2</td>\n",
       "      <td>2</td>\n",
       "    </tr>\n",
       "    <tr>\n",
       "      <th>2</th>\n",
       "      <td>TRX00003</td>\n",
       "      <td>Burns, Nichols and Hernandez</td>\n",
       "      <td>4332198.07</td>\n",
       "      <td>NASA</td>\n",
       "      <td>2021-01-27</td>\n",
       "      <td>Fixed-Price Contract</td>\n",
       "      <td>USA</td>\n",
       "      <td>PA</td>\n",
       "      <td>15.281586</td>\n",
       "      <td>6</td>\n",
       "      <td>1</td>\n",
       "      <td>2</td>\n",
       "      <td>7</td>\n",
       "    </tr>\n",
       "    <tr>\n",
       "      <th>3</th>\n",
       "      <td>TRX00004</td>\n",
       "      <td>Choi, Gilmore and Hanson</td>\n",
       "      <td>3363947.05</td>\n",
       "      <td>Department of Education</td>\n",
       "      <td>2021-11-07</td>\n",
       "      <td>Indefinite Delivery Contract</td>\n",
       "      <td>MEX</td>\n",
       "      <td>TX</td>\n",
       "      <td>15.028626</td>\n",
       "      <td>2</td>\n",
       "      <td>2</td>\n",
       "      <td>1</td>\n",
       "      <td>8</td>\n",
       "    </tr>\n",
       "    <tr>\n",
       "      <th>4</th>\n",
       "      <td>TRX00005</td>\n",
       "      <td>Ferrell Group</td>\n",
       "      <td>640640.51</td>\n",
       "      <td>NASA</td>\n",
       "      <td>2024-02-02</td>\n",
       "      <td>Indefinite Delivery Contract</td>\n",
       "      <td>USA</td>\n",
       "      <td>NY</td>\n",
       "      <td>13.370225</td>\n",
       "      <td>6</td>\n",
       "      <td>2</td>\n",
       "      <td>2</td>\n",
       "      <td>5</td>\n",
       "    </tr>\n",
       "  </tbody>\n",
       "</table>\n",
       "</div>"
      ],
      "text/plain": [
       "  Transaction_ID                   Vendor_Name  Award_Amount  \\\n",
       "0       TRX00001  Little, Chandler and Johnson    1384004.16   \n",
       "1       TRX00002   Bryant, Castillo and Weaver    2800693.04   \n",
       "2       TRX00003  Burns, Nichols and Hernandez    4332198.07   \n",
       "3       TRX00004      Choi, Gilmore and Hanson    3363947.05   \n",
       "4       TRX00005                 Ferrell Group     640640.51   \n",
       "\n",
       "                Award_Agency  Award_Date                    Award_Type  \\\n",
       "0  Department of Agriculture  2022-09-05  Indefinite Delivery Contract   \n",
       "1       Department of Energy  2022-08-03   Time-and-Materials Contract   \n",
       "2                       NASA  2021-01-27          Fixed-Price Contract   \n",
       "3    Department of Education  2021-11-07  Indefinite Delivery Contract   \n",
       "4                       NASA  2024-02-02  Indefinite Delivery Contract   \n",
       "\n",
       "  Performance_Country Performance_State  Log_Award_Amount  Award_Agency_Code  \\\n",
       "0                 USA                GA         14.140492                  0   \n",
       "1                 USA                GA         14.845378                  3   \n",
       "2                 USA                PA         15.281586                  6   \n",
       "3                 MEX                TX         15.028626                  2   \n",
       "4                 USA                NY         13.370225                  6   \n",
       "\n",
       "   Award_Type_Code  Performance_Country_Code  Performance_State_Code  \n",
       "0                2                         2                       2  \n",
       "1                3                         2                       2  \n",
       "2                1                         2                       7  \n",
       "3                2                         1                       8  \n",
       "4                2                         2                       5  "
      ]
     },
     "execution_count": 17,
     "metadata": {},
     "output_type": "execute_result"
    }
   ],
   "source": [
    "import sys\n",
    "import os\n",
    "sys.path.append(os.path.abspath(\"../\"))\n",
    "\n",
    "from src.data_processing import full_pipeline\n",
    "\n",
    "df = full_pipeline(\"../data/raw/vendor_data_raw_2021_2024.csv\")\n",
    "df.head()\n",
    "\n",
    "\n"
   ]
  },
  {
   "cell_type": "code",
   "execution_count": 18,
   "id": "acd52b9d",
   "metadata": {},
   "outputs": [],
   "source": [
    "df.to_csv(\"../data/processed/vendor_data_processed.csv\", index=False)"
   ]
  },
  {
   "cell_type": "code",
   "execution_count": null,
   "id": "62f904ab",
   "metadata": {},
   "outputs": [],
   "source": []
  }
 ],
 "metadata": {
  "kernelspec": {
   "display_name": "Python 3",
   "language": "python",
   "name": "python3"
  },
  "language_info": {
   "codemirror_mode": {
    "name": "ipython",
    "version": 3
   },
   "file_extension": ".py",
   "mimetype": "text/x-python",
   "name": "python",
   "nbconvert_exporter": "python",
   "pygments_lexer": "ipython3",
   "version": "3.13.2"
  }
 },
 "nbformat": 4,
 "nbformat_minor": 5
}
