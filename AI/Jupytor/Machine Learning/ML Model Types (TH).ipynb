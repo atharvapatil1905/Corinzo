{
 "cells": [
  {
   "cell_type": "markdown",
   "id": "47e7eab9",
   "metadata": {},
   "source": [
    "#Machine Learning\n",
    "1) Supervised Learning : (labelled data)\n",
    "   \n",
    "   \n",
    "    i)Regression :  (predicting continious value)\n",
    "\n",
    "\n",
    "        a)Linear Regression\n",
    "        b)Polynomial Regression\n",
    "        c)Logistic Regression\n",
    "        \n",
    "    ii) Classification : (predicting categorical value)\n",
    "\n",
    "\n",
    "        a)Support Vector Machine Classifier (SVC)\n",
    "        b)Decision Tree Classifier\n",
    "        c)Random Forest Classifier\n",
    "        d)Naive Bayes Classifier\n",
    "        e)KNN Classifier\n",
    "    \n",
    "\n",
    "2) Unsupervised Learning : #unlabelled data\n",
    "   \n",
    "   \n",
    "    i) Clustering :\n",
    "        \n",
    "        \n",
    "        a)K Means Clustering\n",
    "        \n",
    "    \n",
    "    \n",
    "    ii) Association :\n"
   ]
  }
 ],
 "metadata": {
  "language_info": {
   "name": "python"
  }
 },
 "nbformat": 4,
 "nbformat_minor": 5
}
